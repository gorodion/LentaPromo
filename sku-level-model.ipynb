{
 "cells": [
  {
   "cell_type": "markdown",
   "metadata": {},
   "source": [
    "$margin_{added, normalized} = \\frac{margin_{promo} - margin_{regular}}{sales_{regular}}$"
   ]
  },
  {
   "cell_type": "code",
   "execution_count": 1,
   "metadata": {},
   "outputs": [],
   "source": [
    "from data import load_checks, load_objects"
   ]
  },
  {
   "cell_type": "code",
   "execution_count": 2,
   "metadata": {},
   "outputs": [],
   "source": [
    "objects = load_objects('data')"
   ]
  },
  {
   "cell_type": "code",
   "execution_count": 3,
   "metadata": {},
   "outputs": [],
   "source": [
    "import pandas as pd"
   ]
  },
  {
   "cell_type": "code",
   "execution_count": 4,
   "metadata": {},
   "outputs": [],
   "source": [
    "from datetime import timedelta\n",
    "\n",
    "def promo_start(date):\n",
    "    # Cчитаем что все акции стартуют по четвергам\n",
    "    # Определяем ближайший предыдущий четверг\n",
    "    return date - timedelta(days=(date.isoweekday() - 4) % 7)"
   ]
  },
  {
   "cell_type": "code",
   "execution_count": 5,
   "metadata": {},
   "outputs": [],
   "source": [
    "objects['promo_start'] = objects.start_date.apply(promo_start)"
   ]
  },
  {
   "cell_type": "code",
   "execution_count": 6,
   "metadata": {},
   "outputs": [],
   "source": [
    "promo_type = 'Biweekly'"
   ]
  },
  {
   "cell_type": "code",
   "execution_count": 7,
   "metadata": {},
   "outputs": [],
   "source": [
    "objects['selected_promo'] = objects['Promo_type'].isin([promo_type])"
   ]
  },
  {
   "cell_type": "code",
   "execution_count": 8,
   "metadata": {},
   "outputs": [],
   "source": [
    "objects['length'] = (objects['end_date'] - objects['start_date']).apply(lambda x: 1+ x.days)"
   ]
  },
  {
   "cell_type": "code",
   "execution_count": 9,
   "metadata": {},
   "outputs": [],
   "source": [
    "objects['selected_promo'] &= objects['length'] == 14"
   ]
  },
  {
   "cell_type": "code",
   "execution_count": 10,
   "metadata": {},
   "outputs": [],
   "source": [
    "def explode_days(objects):\n",
    "    objects['day'] = objects[['start_date', 'end_date']].apply(lambda x: pd.date_range(x['start_date'], x['end_date'], freq='D'), axis=1)\n",
    "    return objects.explode('day')\n",
    "\n",
    "objects = explode_days(objects)"
   ]
  },
  {
   "cell_type": "code",
   "execution_count": 11,
   "metadata": {},
   "outputs": [
    {
     "data": {
      "text/plain": [
       "Index(['Promo_type', 'Offer_ID', 'sku', 'start_date', 'end_date',\n",
       "       'train_test_group', 'promo_start', 'selected_promo', 'length', 'day'],\n",
       "      dtype='object')"
      ]
     },
     "execution_count": 11,
     "metadata": {},
     "output_type": "execute_result"
    }
   ],
   "source": [
    "objects.columns"
   ]
  },
  {
   "cell_type": "code",
   "execution_count": 12,
   "metadata": {},
   "outputs": [],
   "source": [
    "full_checks = load_checks('data')\n",
    "checks = full_checks.copy()"
   ]
  },
  {
   "cell_type": "code",
   "execution_count": 13,
   "metadata": {},
   "outputs": [
    {
     "data": {
      "text/plain": [
       "(1816422, 14)"
      ]
     },
     "execution_count": 13,
     "metadata": {},
     "output_type": "execute_result"
    }
   ],
   "source": [
    "# Смотрим только продажи товаров которые присутствовали в интересующих нас промо \n",
    "checks = checks.merge(objects[objects['selected_promo'] == True][['sku']].drop_duplicates(), on='sku')\n",
    "checks.shape"
   ]
  },
  {
   "cell_type": "code",
   "execution_count": 14,
   "metadata": {},
   "outputs": [],
   "source": [
    "checks = checks.merge(\n",
    "    objects[['sku', 'day', 'selected_promo', 'Promo_type', 'Offer_ID']],\n",
    "    on=['sku', 'day'],\n",
    "    how='left',\n",
    ")"
   ]
  },
  {
   "cell_type": "code",
   "execution_count": 15,
   "metadata": {},
   "outputs": [],
   "source": [
    "checks['promo_start'] = checks['day'].apply(promo_start)"
   ]
  },
  {
   "cell_type": "code",
   "execution_count": 16,
   "metadata": {},
   "outputs": [],
   "source": [
    "sku_promo_sales = checks.groupby(['sku', 'promo_start']).agg(\n",
    "    {\n",
    "        'promo_id': 'count',\n",
    "        'sales': 'sum',\n",
    "        'supplier_sales': 'sum',\n",
    "        'num_sales': 'sum',\n",
    "        'Promo_type': 'first',\n",
    "        'Offer_ID': 'first',\n",
    "        'selected_promo': 'first',\n",
    "    }\n",
    ")"
   ]
  },
  {
   "cell_type": "code",
   "execution_count": 17,
   "metadata": {},
   "outputs": [],
   "source": [
    "sku_promo_sales = sku_promo_sales.rename({'promo_id': 'count_checks'}, axis=1)"
   ]
  },
  {
   "cell_type": "code",
   "execution_count": 18,
   "metadata": {},
   "outputs": [],
   "source": [
    "sku_promo_sales['margin'] = sku_promo_sales['sales'] - sku_promo_sales['supplier_sales']"
   ]
  },
  {
   "cell_type": "code",
   "execution_count": 19,
   "metadata": {},
   "outputs": [],
   "source": [
    "sku_promo_sales['price'] = sku_promo_sales['sales'] / sku_promo_sales['num_sales']"
   ]
  },
  {
   "cell_type": "code",
   "execution_count": 20,
   "metadata": {},
   "outputs": [],
   "source": [
    "sku_promo_sales['item_margin'] = sku_promo_sales['margin'] / sku_promo_sales['num_sales']"
   ]
  },
  {
   "cell_type": "code",
   "execution_count": 21,
   "metadata": {},
   "outputs": [],
   "source": [
    "sku_promo_sales = sku_promo_sales.reset_index()"
   ]
  },
  {
   "cell_type": "code",
   "execution_count": 22,
   "metadata": {},
   "outputs": [
    {
     "data": {
      "text/html": [
       "<div>\n",
       "<style scoped>\n",
       "    .dataframe tbody tr th:only-of-type {\n",
       "        vertical-align: middle;\n",
       "    }\n",
       "\n",
       "    .dataframe tbody tr th {\n",
       "        vertical-align: top;\n",
       "    }\n",
       "\n",
       "    .dataframe thead th {\n",
       "        text-align: right;\n",
       "    }\n",
       "</style>\n",
       "<table border=\"1\" class=\"dataframe\">\n",
       "  <thead>\n",
       "    <tr style=\"text-align: right;\">\n",
       "      <th></th>\n",
       "      <th>sales</th>\n",
       "    </tr>\n",
       "    <tr>\n",
       "      <th>sku</th>\n",
       "      <th></th>\n",
       "    </tr>\n",
       "  </thead>\n",
       "  <tbody>\n",
       "    <tr>\n",
       "      <th>119a9ea3a832472e1c163e5c1afba59e</th>\n",
       "      <td>11040500.40</td>\n",
       "    </tr>\n",
       "    <tr>\n",
       "      <th>ca544f2ea6030dae031adc5a72dde275</th>\n",
       "      <td>4800212.89</td>\n",
       "    </tr>\n",
       "    <tr>\n",
       "      <th>8f4b2b5d481140b01c5b20bbf493b2b9</th>\n",
       "      <td>4209821.44</td>\n",
       "    </tr>\n",
       "    <tr>\n",
       "      <th>962b727f1de1e02bb2a538fd479a8ceb</th>\n",
       "      <td>2767084.12</td>\n",
       "    </tr>\n",
       "    <tr>\n",
       "      <th>0e2823baca6c23c591c96e7399a74ae6</th>\n",
       "      <td>2659829.22</td>\n",
       "    </tr>\n",
       "    <tr>\n",
       "      <th>93c2501c8c39b1d2476abb3d73739933</th>\n",
       "      <td>2584842.45</td>\n",
       "    </tr>\n",
       "    <tr>\n",
       "      <th>0b689fd70e79d5010e397b4c453e8460</th>\n",
       "      <td>2468665.64</td>\n",
       "    </tr>\n",
       "    <tr>\n",
       "      <th>fcd6037cb75c6211110747eacf3e4200</th>\n",
       "      <td>2180441.33</td>\n",
       "    </tr>\n",
       "    <tr>\n",
       "      <th>b5a6bbeeb9ef82b186e0479701dbadf5</th>\n",
       "      <td>1881952.57</td>\n",
       "    </tr>\n",
       "    <tr>\n",
       "      <th>7ff4d25fcbdba033c06e2ba25ae6fc77</th>\n",
       "      <td>1756403.21</td>\n",
       "    </tr>\n",
       "  </tbody>\n",
       "</table>\n",
       "</div>"
      ],
      "text/plain": [
       "                                        sales\n",
       "sku                                          \n",
       "119a9ea3a832472e1c163e5c1afba59e  11040500.40\n",
       "ca544f2ea6030dae031adc5a72dde275   4800212.89\n",
       "8f4b2b5d481140b01c5b20bbf493b2b9   4209821.44\n",
       "962b727f1de1e02bb2a538fd479a8ceb   2767084.12\n",
       "0e2823baca6c23c591c96e7399a74ae6   2659829.22\n",
       "93c2501c8c39b1d2476abb3d73739933   2584842.45\n",
       "0b689fd70e79d5010e397b4c453e8460   2468665.64\n",
       "fcd6037cb75c6211110747eacf3e4200   2180441.33\n",
       "b5a6bbeeb9ef82b186e0479701dbadf5   1881952.57\n",
       "7ff4d25fcbdba033c06e2ba25ae6fc77   1756403.21"
      ]
     },
     "execution_count": 22,
     "metadata": {},
     "output_type": "execute_result"
    }
   ],
   "source": [
    "sku_promo_sales.groupby('sku').agg({'sales': 'sum'}).sort_values('sales', ascending=False).head(10)"
   ]
  },
  {
   "cell_type": "code",
   "execution_count": 23,
   "metadata": {},
   "outputs": [],
   "source": [
    "median_price = sku_promo_sales.groupby('sku')['price'].rolling(17, center=True, min_periods=8).median().reset_index()['price']"
   ]
  },
  {
   "cell_type": "code",
   "execution_count": 24,
   "metadata": {},
   "outputs": [],
   "source": [
    "sku_promo_sales['usual_price'] = median_price"
   ]
  },
  {
   "cell_type": "code",
   "execution_count": 25,
   "metadata": {},
   "outputs": [],
   "source": [
    "regular = sku_promo_sales[sku_promo_sales['selected_promo'].isna()]"
   ]
  },
  {
   "cell_type": "code",
   "execution_count": 26,
   "metadata": {},
   "outputs": [],
   "source": [
    "sku_regular_margin = regular.groupby('sku').agg({'margin': 'mean', 'sales': 'mean'}).sort_values('margin', ascending=False)\n",
    "sku_regular_margin['margin_rank'] = sku_regular_margin['margin'].rank(ascending=False)\n",
    "sku_regular_margin['sales_rank'] = sku_regular_margin['sales'].rank(ascending=False)"
   ]
  },
  {
   "cell_type": "code",
   "execution_count": 27,
   "metadata": {},
   "outputs": [],
   "source": [
    "sku_regular_margin = sku_regular_margin.rename({'sales': 'sales_regular'}, axis=1)"
   ]
  },
  {
   "cell_type": "code",
   "execution_count": 28,
   "metadata": {},
   "outputs": [],
   "source": [
    "promo = sku_promo_sales[sku_promo_sales['selected_promo'] == True]"
   ]
  },
  {
   "cell_type": "code",
   "execution_count": 29,
   "metadata": {},
   "outputs": [],
   "source": [
    "promo = promo.merge(sku_regular_margin, on='sku', suffixes=['', '_regular'])"
   ]
  },
  {
   "cell_type": "code",
   "execution_count": 30,
   "metadata": {},
   "outputs": [],
   "source": [
    "promo['added_margin'] = promo['margin'] - promo['margin_regular']\n",
    "promo['relative_added_margin'] = promo['added_margin'] / promo['sales_regular']"
   ]
  },
  {
   "cell_type": "code",
   "execution_count": null,
   "metadata": {},
   "outputs": [],
   "source": []
  },
  {
   "cell_type": "code",
   "execution_count": 31,
   "metadata": {},
   "outputs": [],
   "source": [
    "# План:\n",
    "\n",
    "# Добавляем фичи: сколько недель от последнего промо\n",
    "# Продаваемость товара (ранк)\n",
    "# Маржинальность товара (ранк)\n",
    "# Первая неделя промо (не хватает данных, надо больше года)\n",
    "# Категория товара"
   ]
  },
  {
   "cell_type": "code",
   "execution_count": 32,
   "metadata": {},
   "outputs": [],
   "source": [
    "# Предсказываем для каждого из вариантов и оптимизируем календарь максимизируя added "
   ]
  },
  {
   "cell_type": "code",
   "execution_count": 33,
   "metadata": {},
   "outputs": [],
   "source": [
    "promo['week_number'] = promo['promo_start'].apply(lambda date: date.isocalendar()[1])"
   ]
  },
  {
   "cell_type": "code",
   "execution_count": 34,
   "metadata": {},
   "outputs": [],
   "source": [
    "from catboost import CatBoostRegressor"
   ]
  },
  {
   "cell_type": "code",
   "execution_count": 35,
   "metadata": {},
   "outputs": [],
   "source": [
    "model = CatBoostRegressor(loss_function='RMSE') # Нужно выбрать лосс который не дает смещение, например RMSE (MAE - не подойдет)"
   ]
  },
  {
   "cell_type": "code",
   "execution_count": 36,
   "metadata": {},
   "outputs": [],
   "source": [
    "features = ['week_number', 'margin_rank', 'sales_rank']\n",
    "target = 'relative_added_margin'"
   ]
  },
  {
   "cell_type": "code",
   "execution_count": 37,
   "metadata": {},
   "outputs": [
    {
     "name": "stdout",
     "output_type": "stream",
     "text": [
      "Learning rate set to 0.050655\n",
      "0:\tlearn: 0.9567222\ttotal: 53.1ms\tremaining: 53.1s\n",
      "100:\tlearn: 0.6595510\ttotal: 219ms\tremaining: 1.95s\n",
      "200:\tlearn: 0.6042121\ttotal: 385ms\tremaining: 1.53s\n",
      "300:\tlearn: 0.5564461\ttotal: 550ms\tremaining: 1.28s\n",
      "400:\tlearn: 0.5122073\ttotal: 715ms\tremaining: 1.07s\n",
      "500:\tlearn: 0.4770418\ttotal: 884ms\tremaining: 881ms\n",
      "600:\tlearn: 0.4512486\ttotal: 1.05s\tremaining: 697ms\n",
      "700:\tlearn: 0.4297795\ttotal: 1.22s\tremaining: 521ms\n",
      "800:\tlearn: 0.4108290\ttotal: 1.39s\tremaining: 345ms\n",
      "900:\tlearn: 0.3937950\ttotal: 1.55s\tremaining: 171ms\n",
      "999:\tlearn: 0.3775915\ttotal: 1.72s\tremaining: 0us\n"
     ]
    },
    {
     "data": {
      "text/plain": [
       "<catboost.core.CatBoostRegressor at 0x7f6c6ec06e80>"
      ]
     },
     "execution_count": 37,
     "metadata": {},
     "output_type": "execute_result"
    }
   ],
   "source": [
    "model.fit(promo[features], promo[target], metric_period=100)"
   ]
  },
  {
   "cell_type": "code",
   "execution_count": 38,
   "metadata": {},
   "outputs": [],
   "source": [
    "# Сгененируем возможные варианты промо для календаря"
   ]
  },
  {
   "cell_type": "code",
   "execution_count": 39,
   "metadata": {},
   "outputs": [
    {
     "data": {
      "text/html": [
       "<div>\n",
       "<style scoped>\n",
       "    .dataframe tbody tr th:only-of-type {\n",
       "        vertical-align: middle;\n",
       "    }\n",
       "\n",
       "    .dataframe tbody tr th {\n",
       "        vertical-align: top;\n",
       "    }\n",
       "\n",
       "    .dataframe thead th {\n",
       "        text-align: right;\n",
       "    }\n",
       "</style>\n",
       "<table border=\"1\" class=\"dataframe\">\n",
       "  <thead>\n",
       "    <tr style=\"text-align: right;\">\n",
       "      <th></th>\n",
       "      <th>promo_start</th>\n",
       "      <th>week_number</th>\n",
       "    </tr>\n",
       "  </thead>\n",
       "  <tbody>\n",
       "    <tr>\n",
       "      <th>69</th>\n",
       "      <td>2019-10-03</td>\n",
       "      <td>40</td>\n",
       "    </tr>\n",
       "    <tr>\n",
       "      <th>70</th>\n",
       "      <td>2019-10-10</td>\n",
       "      <td>41</td>\n",
       "    </tr>\n",
       "    <tr>\n",
       "      <th>56</th>\n",
       "      <td>2019-10-17</td>\n",
       "      <td>42</td>\n",
       "    </tr>\n",
       "    <tr>\n",
       "      <th>222</th>\n",
       "      <td>2019-10-24</td>\n",
       "      <td>43</td>\n",
       "    </tr>\n",
       "    <tr>\n",
       "      <th>40</th>\n",
       "      <td>2019-10-31</td>\n",
       "      <td>44</td>\n",
       "    </tr>\n",
       "    <tr>\n",
       "      <th>41</th>\n",
       "      <td>2019-11-07</td>\n",
       "      <td>45</td>\n",
       "    </tr>\n",
       "    <tr>\n",
       "      <th>6</th>\n",
       "      <td>2019-11-14</td>\n",
       "      <td>46</td>\n",
       "    </tr>\n",
       "    <tr>\n",
       "      <th>7</th>\n",
       "      <td>2019-11-21</td>\n",
       "      <td>47</td>\n",
       "    </tr>\n",
       "    <tr>\n",
       "      <th>38</th>\n",
       "      <td>2019-11-28</td>\n",
       "      <td>48</td>\n",
       "    </tr>\n",
       "    <tr>\n",
       "      <th>39</th>\n",
       "      <td>2019-12-05</td>\n",
       "      <td>49</td>\n",
       "    </tr>\n",
       "    <tr>\n",
       "      <th>8</th>\n",
       "      <td>2020-01-23</td>\n",
       "      <td>4</td>\n",
       "    </tr>\n",
       "    <tr>\n",
       "      <th>9</th>\n",
       "      <td>2020-01-30</td>\n",
       "      <td>5</td>\n",
       "    </tr>\n",
       "    <tr>\n",
       "      <th>59</th>\n",
       "      <td>2020-02-06</td>\n",
       "      <td>6</td>\n",
       "    </tr>\n",
       "    <tr>\n",
       "      <th>60</th>\n",
       "      <td>2020-02-13</td>\n",
       "      <td>7</td>\n",
       "    </tr>\n",
       "    <tr>\n",
       "      <th>115</th>\n",
       "      <td>2020-02-20</td>\n",
       "      <td>8</td>\n",
       "    </tr>\n",
       "    <tr>\n",
       "      <th>116</th>\n",
       "      <td>2020-02-27</td>\n",
       "      <td>9</td>\n",
       "    </tr>\n",
       "    <tr>\n",
       "      <th>111</th>\n",
       "      <td>2020-03-05</td>\n",
       "      <td>10</td>\n",
       "    </tr>\n",
       "    <tr>\n",
       "      <th>112</th>\n",
       "      <td>2020-03-12</td>\n",
       "      <td>11</td>\n",
       "    </tr>\n",
       "    <tr>\n",
       "      <th>10</th>\n",
       "      <td>2020-03-19</td>\n",
       "      <td>12</td>\n",
       "    </tr>\n",
       "    <tr>\n",
       "      <th>11</th>\n",
       "      <td>2020-03-26</td>\n",
       "      <td>13</td>\n",
       "    </tr>\n",
       "    <tr>\n",
       "      <th>24</th>\n",
       "      <td>2020-04-02</td>\n",
       "      <td>14</td>\n",
       "    </tr>\n",
       "    <tr>\n",
       "      <th>25</th>\n",
       "      <td>2020-04-09</td>\n",
       "      <td>15</td>\n",
       "    </tr>\n",
       "    <tr>\n",
       "      <th>48</th>\n",
       "      <td>2020-04-16</td>\n",
       "      <td>16</td>\n",
       "    </tr>\n",
       "    <tr>\n",
       "      <th>49</th>\n",
       "      <td>2020-04-23</td>\n",
       "      <td>17</td>\n",
       "    </tr>\n",
       "    <tr>\n",
       "      <th>0</th>\n",
       "      <td>2020-04-30</td>\n",
       "      <td>18</td>\n",
       "    </tr>\n",
       "    <tr>\n",
       "      <th>1</th>\n",
       "      <td>2020-05-07</td>\n",
       "      <td>19</td>\n",
       "    </tr>\n",
       "    <tr>\n",
       "      <th>26</th>\n",
       "      <td>2020-05-14</td>\n",
       "      <td>20</td>\n",
       "    </tr>\n",
       "    <tr>\n",
       "      <th>27</th>\n",
       "      <td>2020-05-21</td>\n",
       "      <td>21</td>\n",
       "    </tr>\n",
       "    <tr>\n",
       "      <th>103</th>\n",
       "      <td>2020-05-28</td>\n",
       "      <td>22</td>\n",
       "    </tr>\n",
       "    <tr>\n",
       "      <th>104</th>\n",
       "      <td>2020-06-04</td>\n",
       "      <td>23</td>\n",
       "    </tr>\n",
       "    <tr>\n",
       "      <th>77</th>\n",
       "      <td>2020-06-11</td>\n",
       "      <td>24</td>\n",
       "    </tr>\n",
       "    <tr>\n",
       "      <th>78</th>\n",
       "      <td>2020-06-18</td>\n",
       "      <td>25</td>\n",
       "    </tr>\n",
       "    <tr>\n",
       "      <th>16</th>\n",
       "      <td>2020-06-25</td>\n",
       "      <td>26</td>\n",
       "    </tr>\n",
       "    <tr>\n",
       "      <th>17</th>\n",
       "      <td>2020-07-02</td>\n",
       "      <td>27</td>\n",
       "    </tr>\n",
       "    <tr>\n",
       "      <th>4</th>\n",
       "      <td>2020-07-09</td>\n",
       "      <td>28</td>\n",
       "    </tr>\n",
       "    <tr>\n",
       "      <th>5</th>\n",
       "      <td>2020-07-16</td>\n",
       "      <td>29</td>\n",
       "    </tr>\n",
       "    <tr>\n",
       "      <th>12</th>\n",
       "      <td>2020-07-23</td>\n",
       "      <td>30</td>\n",
       "    </tr>\n",
       "    <tr>\n",
       "      <th>13</th>\n",
       "      <td>2020-07-30</td>\n",
       "      <td>31</td>\n",
       "    </tr>\n",
       "    <tr>\n",
       "      <th>30</th>\n",
       "      <td>2020-08-06</td>\n",
       "      <td>32</td>\n",
       "    </tr>\n",
       "    <tr>\n",
       "      <th>31</th>\n",
       "      <td>2020-08-13</td>\n",
       "      <td>33</td>\n",
       "    </tr>\n",
       "    <tr>\n",
       "      <th>50</th>\n",
       "      <td>2020-08-20</td>\n",
       "      <td>34</td>\n",
       "    </tr>\n",
       "    <tr>\n",
       "      <th>51</th>\n",
       "      <td>2020-08-27</td>\n",
       "      <td>35</td>\n",
       "    </tr>\n",
       "    <tr>\n",
       "      <th>2</th>\n",
       "      <td>2020-09-03</td>\n",
       "      <td>36</td>\n",
       "    </tr>\n",
       "    <tr>\n",
       "      <th>3</th>\n",
       "      <td>2020-09-10</td>\n",
       "      <td>37</td>\n",
       "    </tr>\n",
       "  </tbody>\n",
       "</table>\n",
       "</div>"
      ],
      "text/plain": [
       "    promo_start  week_number\n",
       "69   2019-10-03           40\n",
       "70   2019-10-10           41\n",
       "56   2019-10-17           42\n",
       "222  2019-10-24           43\n",
       "40   2019-10-31           44\n",
       "41   2019-11-07           45\n",
       "6    2019-11-14           46\n",
       "7    2019-11-21           47\n",
       "38   2019-11-28           48\n",
       "39   2019-12-05           49\n",
       "8    2020-01-23            4\n",
       "9    2020-01-30            5\n",
       "59   2020-02-06            6\n",
       "60   2020-02-13            7\n",
       "115  2020-02-20            8\n",
       "116  2020-02-27            9\n",
       "111  2020-03-05           10\n",
       "112  2020-03-12           11\n",
       "10   2020-03-19           12\n",
       "11   2020-03-26           13\n",
       "24   2020-04-02           14\n",
       "25   2020-04-09           15\n",
       "48   2020-04-16           16\n",
       "49   2020-04-23           17\n",
       "0    2020-04-30           18\n",
       "1    2020-05-07           19\n",
       "26   2020-05-14           20\n",
       "27   2020-05-21           21\n",
       "103  2020-05-28           22\n",
       "104  2020-06-04           23\n",
       "77   2020-06-11           24\n",
       "78   2020-06-18           25\n",
       "16   2020-06-25           26\n",
       "17   2020-07-02           27\n",
       "4    2020-07-09           28\n",
       "5    2020-07-16           29\n",
       "12   2020-07-23           30\n",
       "13   2020-07-30           31\n",
       "30   2020-08-06           32\n",
       "31   2020-08-13           33\n",
       "50   2020-08-20           34\n",
       "51   2020-08-27           35\n",
       "2    2020-09-03           36\n",
       "3    2020-09-10           37"
      ]
     },
     "execution_count": 39,
     "metadata": {},
     "output_type": "execute_result"
    }
   ],
   "source": [
    "promo[['promo_start', 'week_number']].drop_duplicates().sort_values('promo_start')"
   ]
  },
  {
   "cell_type": "code",
   "execution_count": 40,
   "metadata": {},
   "outputs": [
    {
     "name": "stdout",
     "output_type": "stream",
     "text": [
      "2021-01-21 3\n",
      "2021-01-28 4\n",
      "2021-02-04 5\n",
      "2021-02-11 6\n",
      "2021-02-18 7\n",
      "2021-02-25 8\n",
      "2021-03-04 9\n",
      "2021-03-11 10\n",
      "2021-03-18 11\n",
      "2021-03-25 12\n"
     ]
    }
   ],
   "source": [
    "import datetime\n",
    "\n",
    "all_predictions = []\n",
    "# Первые 3 недели пропустим, поскольку в прошлом году не было 2-х недельных промо в этот период \n",
    "first_week = datetime.date(2021, 1, 7)\n",
    "for week_number in range(3, 13):\n",
    "    promo_start = first_week + datetime.timedelta(weeks=week_number - 1)\n",
    "    print(promo_start, week_number)\n",
    "    for sku in promo.sku.unique():\n",
    "        all_predictions.append({\n",
    "            'week_number': week_number, \n",
    "            'promo_start': promo_start,\n",
    "            'sku': sku,\n",
    "        })\n",
    "        \n",
    "all_predictions = pd.DataFrame(all_predictions)\n",
    "all_predictions = all_predictions.merge(sku_regular_margin, on='sku', suffixes=['', '_regular'])"
   ]
  },
  {
   "cell_type": "code",
   "execution_count": 41,
   "metadata": {},
   "outputs": [],
   "source": [
    "all_predictions[target] = model.predict(all_predictions[features])\n",
    "all_predictions['added_margin'] = all_predictions['relative_added_margin'] * all_predictions['sales_regular']\n",
    "all_predictions = all_predictions.set_index(['sku', 'promo_start', 'week_number'])"
   ]
  },
  {
   "cell_type": "code",
   "execution_count": 42,
   "metadata": {},
   "outputs": [
    {
     "data": {
      "text/html": [
       "<div>\n",
       "<style scoped>\n",
       "    .dataframe tbody tr th:only-of-type {\n",
       "        vertical-align: middle;\n",
       "    }\n",
       "\n",
       "    .dataframe tbody tr th {\n",
       "        vertical-align: top;\n",
       "    }\n",
       "\n",
       "    .dataframe thead th {\n",
       "        text-align: right;\n",
       "    }\n",
       "</style>\n",
       "<table border=\"1\" class=\"dataframe\">\n",
       "  <thead>\n",
       "    <tr style=\"text-align: right;\">\n",
       "      <th></th>\n",
       "      <th></th>\n",
       "      <th></th>\n",
       "      <th>added_margin</th>\n",
       "      <th>sales_regular</th>\n",
       "      <th>relative_added_margin</th>\n",
       "    </tr>\n",
       "    <tr>\n",
       "      <th>sku</th>\n",
       "      <th>promo_start</th>\n",
       "      <th>week_number</th>\n",
       "      <th></th>\n",
       "      <th></th>\n",
       "      <th></th>\n",
       "    </tr>\n",
       "  </thead>\n",
       "  <tbody>\n",
       "    <tr>\n",
       "      <th rowspan=\"10\" valign=\"top\">00218695e83d28a79151ef327e51200c</th>\n",
       "      <th>2021-01-21</th>\n",
       "      <th>3</th>\n",
       "      <td>-598.085914</td>\n",
       "      <td>905.934054</td>\n",
       "      <td>-0.660187</td>\n",
       "    </tr>\n",
       "    <tr>\n",
       "      <th>2021-01-28</th>\n",
       "      <th>4</th>\n",
       "      <td>-598.085914</td>\n",
       "      <td>905.934054</td>\n",
       "      <td>-0.660187</td>\n",
       "    </tr>\n",
       "    <tr>\n",
       "      <th>2021-02-04</th>\n",
       "      <th>5</th>\n",
       "      <td>-622.613683</td>\n",
       "      <td>905.934054</td>\n",
       "      <td>-0.687262</td>\n",
       "    </tr>\n",
       "    <tr>\n",
       "      <th>2021-02-11</th>\n",
       "      <th>6</th>\n",
       "      <td>-652.552172</td>\n",
       "      <td>905.934054</td>\n",
       "      <td>-0.720309</td>\n",
       "    </tr>\n",
       "    <tr>\n",
       "      <th>2021-02-18</th>\n",
       "      <th>7</th>\n",
       "      <td>-644.878049</td>\n",
       "      <td>905.934054</td>\n",
       "      <td>-0.711838</td>\n",
       "    </tr>\n",
       "    <tr>\n",
       "      <th>2021-02-25</th>\n",
       "      <th>8</th>\n",
       "      <td>-734.806081</td>\n",
       "      <td>905.934054</td>\n",
       "      <td>-0.811103</td>\n",
       "    </tr>\n",
       "    <tr>\n",
       "      <th>2021-03-04</th>\n",
       "      <th>9</th>\n",
       "      <td>-781.464743</td>\n",
       "      <td>905.934054</td>\n",
       "      <td>-0.862607</td>\n",
       "    </tr>\n",
       "    <tr>\n",
       "      <th>2021-03-11</th>\n",
       "      <th>10</th>\n",
       "      <td>-1113.120575</td>\n",
       "      <td>905.934054</td>\n",
       "      <td>-1.228699</td>\n",
       "    </tr>\n",
       "    <tr>\n",
       "      <th>2021-03-18</th>\n",
       "      <th>11</th>\n",
       "      <td>-1065.088077</td>\n",
       "      <td>905.934054</td>\n",
       "      <td>-1.175679</td>\n",
       "    </tr>\n",
       "    <tr>\n",
       "      <th>2021-03-25</th>\n",
       "      <th>12</th>\n",
       "      <td>-447.529482</td>\n",
       "      <td>905.934054</td>\n",
       "      <td>-0.493998</td>\n",
       "    </tr>\n",
       "    <tr>\n",
       "      <th rowspan=\"10\" valign=\"top\">002efbd1c274c4d3dd21e48787124a93</th>\n",
       "      <th>2021-01-21</th>\n",
       "      <th>3</th>\n",
       "      <td>495.335666</td>\n",
       "      <td>3601.256364</td>\n",
       "      <td>0.137545</td>\n",
       "    </tr>\n",
       "    <tr>\n",
       "      <th>2021-01-28</th>\n",
       "      <th>4</th>\n",
       "      <td>495.335666</td>\n",
       "      <td>3601.256364</td>\n",
       "      <td>0.137545</td>\n",
       "    </tr>\n",
       "    <tr>\n",
       "      <th>2021-02-04</th>\n",
       "      <th>5</th>\n",
       "      <td>550.610443</td>\n",
       "      <td>3601.256364</td>\n",
       "      <td>0.152894</td>\n",
       "    </tr>\n",
       "    <tr>\n",
       "      <th>2021-02-11</th>\n",
       "      <th>6</th>\n",
       "      <td>1763.192905</td>\n",
       "      <td>3601.256364</td>\n",
       "      <td>0.489605</td>\n",
       "    </tr>\n",
       "    <tr>\n",
       "      <th>2021-02-18</th>\n",
       "      <th>7</th>\n",
       "      <td>2200.609280</td>\n",
       "      <td>3601.256364</td>\n",
       "      <td>0.611067</td>\n",
       "    </tr>\n",
       "    <tr>\n",
       "      <th>2021-02-25</th>\n",
       "      <th>8</th>\n",
       "      <td>3676.656706</td>\n",
       "      <td>3601.256364</td>\n",
       "      <td>1.020937</td>\n",
       "    </tr>\n",
       "    <tr>\n",
       "      <th>2021-03-04</th>\n",
       "      <th>9</th>\n",
       "      <td>2712.986501</td>\n",
       "      <td>3601.256364</td>\n",
       "      <td>0.753344</td>\n",
       "    </tr>\n",
       "    <tr>\n",
       "      <th>2021-03-11</th>\n",
       "      <th>10</th>\n",
       "      <td>2876.469947</td>\n",
       "      <td>3601.256364</td>\n",
       "      <td>0.798741</td>\n",
       "    </tr>\n",
       "    <tr>\n",
       "      <th>2021-03-18</th>\n",
       "      <th>11</th>\n",
       "      <td>2661.438212</td>\n",
       "      <td>3601.256364</td>\n",
       "      <td>0.739030</td>\n",
       "    </tr>\n",
       "    <tr>\n",
       "      <th>2021-03-25</th>\n",
       "      <th>12</th>\n",
       "      <td>2055.554669</td>\n",
       "      <td>3601.256364</td>\n",
       "      <td>0.570788</td>\n",
       "    </tr>\n",
       "    <tr>\n",
       "      <th rowspan=\"10\" valign=\"top\">00432d021eca6059fee2ed69a732c2b2</th>\n",
       "      <th>2021-01-21</th>\n",
       "      <th>3</th>\n",
       "      <td>352.091097</td>\n",
       "      <td>1966.625909</td>\n",
       "      <td>0.179033</td>\n",
       "    </tr>\n",
       "    <tr>\n",
       "      <th>2021-01-28</th>\n",
       "      <th>4</th>\n",
       "      <td>352.091097</td>\n",
       "      <td>1966.625909</td>\n",
       "      <td>0.179033</td>\n",
       "    </tr>\n",
       "    <tr>\n",
       "      <th>2021-02-04</th>\n",
       "      <th>5</th>\n",
       "      <td>477.426886</td>\n",
       "      <td>1966.625909</td>\n",
       "      <td>0.242764</td>\n",
       "    </tr>\n",
       "    <tr>\n",
       "      <th>2021-02-11</th>\n",
       "      <th>6</th>\n",
       "      <td>1211.105846</td>\n",
       "      <td>1966.625909</td>\n",
       "      <td>0.615829</td>\n",
       "    </tr>\n",
       "    <tr>\n",
       "      <th>2021-02-18</th>\n",
       "      <th>7</th>\n",
       "      <td>1506.219129</td>\n",
       "      <td>1966.625909</td>\n",
       "      <td>0.765890</td>\n",
       "    </tr>\n",
       "    <tr>\n",
       "      <th>2021-02-25</th>\n",
       "      <th>8</th>\n",
       "      <td>2365.315428</td>\n",
       "      <td>1966.625909</td>\n",
       "      <td>1.202728</td>\n",
       "    </tr>\n",
       "    <tr>\n",
       "      <th>2021-03-04</th>\n",
       "      <th>9</th>\n",
       "      <td>2025.062815</td>\n",
       "      <td>1966.625909</td>\n",
       "      <td>1.029714</td>\n",
       "    </tr>\n",
       "    <tr>\n",
       "      <th>2021-03-11</th>\n",
       "      <th>10</th>\n",
       "      <td>2116.786142</td>\n",
       "      <td>1966.625909</td>\n",
       "      <td>1.076354</td>\n",
       "    </tr>\n",
       "    <tr>\n",
       "      <th>2021-03-18</th>\n",
       "      <th>11</th>\n",
       "      <td>1929.599736</td>\n",
       "      <td>1966.625909</td>\n",
       "      <td>0.981173</td>\n",
       "    </tr>\n",
       "    <tr>\n",
       "      <th>2021-03-25</th>\n",
       "      <th>12</th>\n",
       "      <td>1311.722107</td>\n",
       "      <td>1966.625909</td>\n",
       "      <td>0.666991</td>\n",
       "    </tr>\n",
       "  </tbody>\n",
       "</table>\n",
       "</div>"
      ],
      "text/plain": [
       "                                                          added_margin  \\\n",
       "sku                              promo_start week_number                 \n",
       "00218695e83d28a79151ef327e51200c 2021-01-21  3             -598.085914   \n",
       "                                 2021-01-28  4             -598.085914   \n",
       "                                 2021-02-04  5             -622.613683   \n",
       "                                 2021-02-11  6             -652.552172   \n",
       "                                 2021-02-18  7             -644.878049   \n",
       "                                 2021-02-25  8             -734.806081   \n",
       "                                 2021-03-04  9             -781.464743   \n",
       "                                 2021-03-11  10           -1113.120575   \n",
       "                                 2021-03-18  11           -1065.088077   \n",
       "                                 2021-03-25  12            -447.529482   \n",
       "002efbd1c274c4d3dd21e48787124a93 2021-01-21  3              495.335666   \n",
       "                                 2021-01-28  4              495.335666   \n",
       "                                 2021-02-04  5              550.610443   \n",
       "                                 2021-02-11  6             1763.192905   \n",
       "                                 2021-02-18  7             2200.609280   \n",
       "                                 2021-02-25  8             3676.656706   \n",
       "                                 2021-03-04  9             2712.986501   \n",
       "                                 2021-03-11  10            2876.469947   \n",
       "                                 2021-03-18  11            2661.438212   \n",
       "                                 2021-03-25  12            2055.554669   \n",
       "00432d021eca6059fee2ed69a732c2b2 2021-01-21  3              352.091097   \n",
       "                                 2021-01-28  4              352.091097   \n",
       "                                 2021-02-04  5              477.426886   \n",
       "                                 2021-02-11  6             1211.105846   \n",
       "                                 2021-02-18  7             1506.219129   \n",
       "                                 2021-02-25  8             2365.315428   \n",
       "                                 2021-03-04  9             2025.062815   \n",
       "                                 2021-03-11  10            2116.786142   \n",
       "                                 2021-03-18  11            1929.599736   \n",
       "                                 2021-03-25  12            1311.722107   \n",
       "\n",
       "                                                          sales_regular  \\\n",
       "sku                              promo_start week_number                  \n",
       "00218695e83d28a79151ef327e51200c 2021-01-21  3               905.934054   \n",
       "                                 2021-01-28  4               905.934054   \n",
       "                                 2021-02-04  5               905.934054   \n",
       "                                 2021-02-11  6               905.934054   \n",
       "                                 2021-02-18  7               905.934054   \n",
       "                                 2021-02-25  8               905.934054   \n",
       "                                 2021-03-04  9               905.934054   \n",
       "                                 2021-03-11  10              905.934054   \n",
       "                                 2021-03-18  11              905.934054   \n",
       "                                 2021-03-25  12              905.934054   \n",
       "002efbd1c274c4d3dd21e48787124a93 2021-01-21  3              3601.256364   \n",
       "                                 2021-01-28  4              3601.256364   \n",
       "                                 2021-02-04  5              3601.256364   \n",
       "                                 2021-02-11  6              3601.256364   \n",
       "                                 2021-02-18  7              3601.256364   \n",
       "                                 2021-02-25  8              3601.256364   \n",
       "                                 2021-03-04  9              3601.256364   \n",
       "                                 2021-03-11  10             3601.256364   \n",
       "                                 2021-03-18  11             3601.256364   \n",
       "                                 2021-03-25  12             3601.256364   \n",
       "00432d021eca6059fee2ed69a732c2b2 2021-01-21  3              1966.625909   \n",
       "                                 2021-01-28  4              1966.625909   \n",
       "                                 2021-02-04  5              1966.625909   \n",
       "                                 2021-02-11  6              1966.625909   \n",
       "                                 2021-02-18  7              1966.625909   \n",
       "                                 2021-02-25  8              1966.625909   \n",
       "                                 2021-03-04  9              1966.625909   \n",
       "                                 2021-03-11  10             1966.625909   \n",
       "                                 2021-03-18  11             1966.625909   \n",
       "                                 2021-03-25  12             1966.625909   \n",
       "\n",
       "                                                          relative_added_margin  \n",
       "sku                              promo_start week_number                         \n",
       "00218695e83d28a79151ef327e51200c 2021-01-21  3                        -0.660187  \n",
       "                                 2021-01-28  4                        -0.660187  \n",
       "                                 2021-02-04  5                        -0.687262  \n",
       "                                 2021-02-11  6                        -0.720309  \n",
       "                                 2021-02-18  7                        -0.711838  \n",
       "                                 2021-02-25  8                        -0.811103  \n",
       "                                 2021-03-04  9                        -0.862607  \n",
       "                                 2021-03-11  10                       -1.228699  \n",
       "                                 2021-03-18  11                       -1.175679  \n",
       "                                 2021-03-25  12                       -0.493998  \n",
       "002efbd1c274c4d3dd21e48787124a93 2021-01-21  3                         0.137545  \n",
       "                                 2021-01-28  4                         0.137545  \n",
       "                                 2021-02-04  5                         0.152894  \n",
       "                                 2021-02-11  6                         0.489605  \n",
       "                                 2021-02-18  7                         0.611067  \n",
       "                                 2021-02-25  8                         1.020937  \n",
       "                                 2021-03-04  9                         0.753344  \n",
       "                                 2021-03-11  10                        0.798741  \n",
       "                                 2021-03-18  11                        0.739030  \n",
       "                                 2021-03-25  12                        0.570788  \n",
       "00432d021eca6059fee2ed69a732c2b2 2021-01-21  3                         0.179033  \n",
       "                                 2021-01-28  4                         0.179033  \n",
       "                                 2021-02-04  5                         0.242764  \n",
       "                                 2021-02-11  6                         0.615829  \n",
       "                                 2021-02-18  7                         0.765890  \n",
       "                                 2021-02-25  8                         1.202728  \n",
       "                                 2021-03-04  9                         1.029714  \n",
       "                                 2021-03-11  10                        1.076354  \n",
       "                                 2021-03-18  11                        0.981173  \n",
       "                                 2021-03-25  12                        0.666991  "
      ]
     },
     "execution_count": 42,
     "metadata": {},
     "output_type": "execute_result"
    }
   ],
   "source": [
    "all_predictions[['added_margin', 'sales_regular', 'relative_added_margin']].head(30)"
   ]
  },
  {
   "cell_type": "code",
   "execution_count": 43,
   "metadata": {},
   "outputs": [],
   "source": [
    "# Поскольку в 2020 году в первый квартал основная часть товаров была в двухнедельной промо акции не более одного раза, \n",
    "# мы выберем самую лучшую позицию для промо-акции по каждому товару"
   ]
  },
  {
   "cell_type": "code",
   "execution_count": 44,
   "metadata": {
    "scrolled": false
   },
   "outputs": [],
   "source": [
    "calendar = []\n",
    "\n",
    "for sku, predictions in all_predictions.groupby('sku'):\n",
    "    predictions['biweekly_added_margin'] = predictions['added_margin'][::-1].rolling(window=2).sum()\n",
    "    max_week = predictions['biweekly_added_margin'].idxmax()\n",
    "    max_week, predictions.loc[max_week, 'biweekly_added_margin']\n",
    "    calendar.append({\n",
    "        'biweekly_added_margin': predictions.loc[max_week, 'biweekly_added_margin'],\n",
    "        'sku': max_week[0],\n",
    "        'promo_start': max_week[1],\n",
    "        'week_number': max_week[2],\n",
    "    })"
   ]
  },
  {
   "cell_type": "code",
   "execution_count": 45,
   "metadata": {},
   "outputs": [],
   "source": [
    "calendar = pd.DataFrame(calendar).set_index('sku')"
   ]
  },
  {
   "cell_type": "code",
   "execution_count": 46,
   "metadata": {},
   "outputs": [
    {
     "data": {
      "text/plain": [
       "2020-02-06    107\n",
       "2020-02-13    100\n",
       "2020-03-19     92\n",
       "2020-01-23     79\n",
       "2020-01-30     79\n",
       "2020-02-27     70\n",
       "2020-02-20     69\n",
       "2020-03-05     62\n",
       "2020-03-12     62\n",
       "Name: promo_start, dtype: int64"
      ]
     },
     "execution_count": 46,
     "metadata": {},
     "output_type": "execute_result"
    }
   ],
   "source": [
    "promo[promo.week_number < 13].promo_start.value_counts()"
   ]
  },
  {
   "cell_type": "code",
   "execution_count": 47,
   "metadata": {},
   "outputs": [
    {
     "data": {
      "text/plain": [
       "2021-02-25    776\n",
       "2021-01-21    376\n",
       "2021-03-11    172\n",
       "2021-02-18     45\n",
       "2021-02-04     44\n",
       "2021-01-28     36\n",
       "2021-03-18     35\n",
       "2021-02-11     22\n",
       "2021-03-04      4\n",
       "Name: promo_start, dtype: int64"
      ]
     },
     "execution_count": 47,
     "metadata": {},
     "output_type": "execute_result"
    }
   ],
   "source": [
    "calendar.promo_start.value_counts()"
   ]
  },
  {
   "cell_type": "code",
   "execution_count": 48,
   "metadata": {},
   "outputs": [
    {
     "data": {
      "text/plain": [
       "((1510, 3), (720, 20))"
      ]
     },
     "execution_count": 48,
     "metadata": {},
     "output_type": "execute_result"
    }
   ],
   "source": [
    "# Размер календаря как и ожидался одинаковый (в календаре объединены пары недель промо)\n",
    "calendar.shape, promo[promo.week_number < 13].shape"
   ]
  },
  {
   "cell_type": "code",
   "execution_count": 49,
   "metadata": {},
   "outputs": [
    {
     "data": {
      "text/plain": [
       "4898000.0"
      ]
     },
     "execution_count": 49,
     "metadata": {},
     "output_type": "execute_result"
    }
   ],
   "source": [
    "calendar['biweekly_added_margin'].sum().round(-3)"
   ]
  },
  {
   "cell_type": "code",
   "execution_count": 50,
   "metadata": {},
   "outputs": [
    {
     "data": {
      "text/plain": [
       "2997000.0"
      ]
     },
     "execution_count": 50,
     "metadata": {},
     "output_type": "execute_result"
    }
   ],
   "source": [
    "promo['added_margin'].sum().round(-3)"
   ]
  },
  {
   "cell_type": "code",
   "execution_count": 51,
   "metadata": {},
   "outputs": [],
   "source": [
    "old_calendar = promo[['sku', 'promo_start']].groupby('sku').agg({'promo_start': 'min'})"
   ]
  },
  {
   "cell_type": "code",
   "execution_count": 52,
   "metadata": {},
   "outputs": [
    {
     "data": {
      "text/plain": [
       "'63%'"
      ]
     },
     "execution_count": 52,
     "metadata": {},
     "output_type": "execute_result"
    }
   ],
   "source": [
    "# Прогнозное увеличение прибыли для календаря\n",
    "added_margin_calendar_total = calendar['biweekly_added_margin'].sum() / promo['added_margin'].sum() - 1\n",
    "f\"{added_margin_calendar_total:.0%}\""
   ]
  },
  {
   "cell_type": "code",
   "execution_count": 53,
   "metadata": {},
   "outputs": [
    {
     "data": {
      "text/plain": [
       "<AxesSubplot:xlabel='promo_start'>"
      ]
     },
     "execution_count": 53,
     "metadata": {},
     "output_type": "execute_result"
    },
    {
     "data": {
      "image/png": "[encoded data removed]",
      "text/plain": [
       "<Figure size 1080x144 with 1 Axes>"
      ]
     },
     "metadata": {},
     "output_type": "display_data"
    }
   ],
   "source": [
    "%matplotlib inline\n",
    "\n",
    "import seaborn\n",
    "seaborn.set()\n",
    "promo[promo.week_number < 13].groupby('promo_start').agg({'added_margin': 'sum'}).plot(figsize=(15, 2))"
   ]
  },
  {
   "cell_type": "code",
   "execution_count": 54,
   "metadata": {},
   "outputs": [
    {
     "data": {
      "text/html": [
       "<div>\n",
       "<style scoped>\n",
       "    .dataframe tbody tr th:only-of-type {\n",
       "        vertical-align: middle;\n",
       "    }\n",
       "\n",
       "    .dataframe tbody tr th {\n",
       "        vertical-align: top;\n",
       "    }\n",
       "\n",
       "    .dataframe thead th {\n",
       "        text-align: right;\n",
       "    }\n",
       "</style>\n",
       "<table border=\"1\" class=\"dataframe\">\n",
       "  <thead>\n",
       "    <tr style=\"text-align: right;\">\n",
       "      <th></th>\n",
       "      <th>promo_start</th>\n",
       "    </tr>\n",
       "    <tr>\n",
       "      <th>sku</th>\n",
       "      <th></th>\n",
       "    </tr>\n",
       "  </thead>\n",
       "  <tbody>\n",
       "    <tr>\n",
       "      <th>00218695e83d28a79151ef327e51200c</th>\n",
       "      <td>2021-01-21</td>\n",
       "    </tr>\n",
       "    <tr>\n",
       "      <th>00218695e83d28a79151ef327e51200c</th>\n",
       "      <td>2021-01-28</td>\n",
       "    </tr>\n",
       "    <tr>\n",
       "      <th>002efbd1c274c4d3dd21e48787124a93</th>\n",
       "      <td>2021-02-25</td>\n",
       "    </tr>\n",
       "    <tr>\n",
       "      <th>002efbd1c274c4d3dd21e48787124a93</th>\n",
       "      <td>2021-03-04</td>\n",
       "    </tr>\n",
       "    <tr>\n",
       "      <th>00432d021eca6059fee2ed69a732c2b2</th>\n",
       "      <td>2021-02-25</td>\n",
       "    </tr>\n",
       "    <tr>\n",
       "      <th>...</th>\n",
       "      <td>...</td>\n",
       "    </tr>\n",
       "    <tr>\n",
       "      <th>ff4bf06e9bb85df257d5d080e1d9b4e5</th>\n",
       "      <td>2021-03-04</td>\n",
       "    </tr>\n",
       "    <tr>\n",
       "      <th>ff608c85ac3bd4ca8568b28746d86ee7</th>\n",
       "      <td>2021-01-21</td>\n",
       "    </tr>\n",
       "    <tr>\n",
       "      <th>ff608c85ac3bd4ca8568b28746d86ee7</th>\n",
       "      <td>2021-01-28</td>\n",
       "    </tr>\n",
       "    <tr>\n",
       "      <th>ff6806b34403247f7d2429b9dac2eff3</th>\n",
       "      <td>2021-02-25</td>\n",
       "    </tr>\n",
       "    <tr>\n",
       "      <th>ff6806b34403247f7d2429b9dac2eff3</th>\n",
       "      <td>2021-03-04</td>\n",
       "    </tr>\n",
       "  </tbody>\n",
       "</table>\n",
       "<p>3020 rows × 1 columns</p>\n",
       "</div>"
      ],
      "text/plain": [
       "                                 promo_start\n",
       "sku                                         \n",
       "00218695e83d28a79151ef327e51200c  2021-01-21\n",
       "00218695e83d28a79151ef327e51200c  2021-01-28\n",
       "002efbd1c274c4d3dd21e48787124a93  2021-02-25\n",
       "002efbd1c274c4d3dd21e48787124a93  2021-03-04\n",
       "00432d021eca6059fee2ed69a732c2b2  2021-02-25\n",
       "...                                      ...\n",
       "ff4bf06e9bb85df257d5d080e1d9b4e5  2021-03-04\n",
       "ff608c85ac3bd4ca8568b28746d86ee7  2021-01-21\n",
       "ff608c85ac3bd4ca8568b28746d86ee7  2021-01-28\n",
       "ff6806b34403247f7d2429b9dac2eff3  2021-02-25\n",
       "ff6806b34403247f7d2429b9dac2eff3  2021-03-04\n",
       "\n",
       "[3020 rows x 1 columns]"
      ]
     },
     "execution_count": 54,
     "metadata": {},
     "output_type": "execute_result"
    }
   ],
   "source": [
    "calendar_exploded = calendar[['promo_start']].copy()\n",
    "calendar_exploded['promo_start'] = calendar_exploded['promo_start'].apply(\n",
    "    lambda date: [date, date + datetime.timedelta(weeks=1)]\n",
    ")\n",
    "calendar_exploded = calendar_exploded.explode('promo_start')\n",
    "calendar_exploded"
   ]
  },
  {
   "cell_type": "code",
   "execution_count": 55,
   "metadata": {},
   "outputs": [
    {
     "data": {
      "text/plain": [
       "<AxesSubplot:xlabel='promo_start'>"
      ]
     },
     "execution_count": 55,
     "metadata": {},
     "output_type": "execute_result"
    },
    {
     "data": {
      "image/png": "[encoded data removed]",
      "text/plain": [
       "<Figure size 1152x144 with 1 Axes>"
      ]
     },
     "metadata": {},
     "output_type": "display_data"
    }
   ],
   "source": [
    "%matplotlib inline\n",
    "\n",
    "import seaborn\n",
    "seaborn.set()\n",
    "all_predictions.merge(calendar_exploded, on=['sku', 'promo_start']).groupby('promo_start').agg({'added_margin': 'sum'}).plot(figsize=(16, 2))"
   ]
  },
  {
   "cell_type": "code",
   "execution_count": 56,
   "metadata": {},
   "outputs": [
    {
     "data": {
      "text/plain": [
       "4898024.918584161"
      ]
     },
     "execution_count": 56,
     "metadata": {},
     "output_type": "execute_result"
    }
   ],
   "source": [
    "all_predictions.merge(calendar_exploded, on=['sku', 'promo_start'])['added_margin'].sum()"
   ]
  },
  {
   "cell_type": "code",
   "execution_count": null,
   "metadata": {},
   "outputs": [],
   "source": []
  }
 ],
 "metadata": {
  "kernelspec": {
   "display_name": "Python 3",
   "language": "python",
   "name": "python3"
  },
  "language_info": {
   "codemirror_mode": {
    "name": "ipython",
    "version": 3
   },
   "file_extension": ".py",
   "mimetype": "text/x-python",
   "name": "python",
   "nbconvert_exporter": "python",
   "pygments_lexer": "ipython3",
   "version": "3.6.8"
  }
 },
 "nbformat": 4,
 "nbformat_minor": 2
}
