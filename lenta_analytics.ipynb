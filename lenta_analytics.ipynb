{
  "nbformat": 4,
  "nbformat_minor": 0,
  "metadata": {
    "colab": {
      "name": "lenta_analytics.ipynb",
      "provenance": [],
      "collapsed_sections": []
    },
    "kernelspec": {
      "name": "python3",
      "display_name": "Python 3"
    },
    "language_info": {
      "name": "python"
    },
    "widgets": {
      "application/vnd.jupyter.widget-state+json": {
        "60a64bb633f54bf39e5bf7ef5a8aa89e": {
          "model_module": "@jupyter-widgets/controls",
          "model_name": "HBoxModel",
          "state": {
            "_view_name": "HBoxView",
            "_dom_classes": [],
            "_model_name": "HBoxModel",
            "_view_module": "@jupyter-widgets/controls",
            "_model_module_version": "1.5.0",
            "_view_count": null,
            "_view_module_version": "1.5.0",
            "box_style": "",
            "layout": "IPY_MODEL_d03c8e788db74a508873ed7c2941829e",
            "_model_module": "@jupyter-widgets/controls",
            "children": [
              "IPY_MODEL_903caa0d084742b2b5827c519aff4840",
              "IPY_MODEL_96b54d0ed8cf470299cf323f1ca27d7e"
            ]
          }
        },
        "d03c8e788db74a508873ed7c2941829e": {
          "model_module": "@jupyter-widgets/base",
          "model_name": "LayoutModel",
          "state": {
            "_view_name": "LayoutView",
            "grid_template_rows": null,
            "right": null,
            "justify_content": null,
            "_view_module": "@jupyter-widgets/base",
            "overflow": null,
            "_model_module_version": "1.2.0",
            "_view_count": null,
            "flex_flow": null,
            "width": null,
            "min_width": null,
            "border": null,
            "align_items": null,
            "bottom": null,
            "_model_module": "@jupyter-widgets/base",
            "top": null,
            "grid_column": null,
            "overflow_y": null,
            "overflow_x": null,
            "grid_auto_flow": null,
            "grid_area": null,
            "grid_template_columns": null,
            "flex": null,
            "_model_name": "LayoutModel",
            "justify_items": null,
            "grid_row": null,
            "max_height": null,
            "align_content": null,
            "visibility": null,
            "align_self": null,
            "height": null,
            "min_height": null,
            "padding": null,
            "grid_auto_rows": null,
            "grid_gap": null,
            "max_width": null,
            "order": null,
            "_view_module_version": "1.2.0",
            "grid_template_areas": null,
            "object_position": null,
            "object_fit": null,
            "grid_auto_columns": null,
            "margin": null,
            "display": null,
            "left": null
          }
        },
        "903caa0d084742b2b5827c519aff4840": {
          "model_module": "@jupyter-widgets/controls",
          "model_name": "FloatProgressModel",
          "state": {
            "_view_name": "ProgressView",
            "style": "IPY_MODEL_c949935144c04463a0ecd3cece73fad9",
            "_dom_classes": [],
            "description": "100%",
            "_model_name": "FloatProgressModel",
            "bar_style": "success",
            "max": 720,
            "_view_module": "@jupyter-widgets/controls",
            "_model_module_version": "1.5.0",
            "value": 720,
            "_view_count": null,
            "_view_module_version": "1.5.0",
            "orientation": "horizontal",
            "min": 0,
            "description_tooltip": null,
            "_model_module": "@jupyter-widgets/controls",
            "layout": "IPY_MODEL_ccf0e140dedf430b97e1827dff630b03"
          }
        },
        "96b54d0ed8cf470299cf323f1ca27d7e": {
          "model_module": "@jupyter-widgets/controls",
          "model_name": "HTMLModel",
          "state": {
            "_view_name": "HTMLView",
            "style": "IPY_MODEL_eabf773bc03b452fa691c51d2bfca109",
            "_dom_classes": [],
            "description": "",
            "_model_name": "HTMLModel",
            "placeholder": "​",
            "_view_module": "@jupyter-widgets/controls",
            "_model_module_version": "1.5.0",
            "value": " 720/720 [03:20&lt;00:00,  3.59it/s]",
            "_view_count": null,
            "_view_module_version": "1.5.0",
            "description_tooltip": null,
            "_model_module": "@jupyter-widgets/controls",
            "layout": "IPY_MODEL_6b87d15ab89d414eb49a0bccc98c4efc"
          }
        },
        "c949935144c04463a0ecd3cece73fad9": {
          "model_module": "@jupyter-widgets/controls",
          "model_name": "ProgressStyleModel",
          "state": {
            "_view_name": "StyleView",
            "_model_name": "ProgressStyleModel",
            "description_width": "initial",
            "_view_module": "@jupyter-widgets/base",
            "_model_module_version": "1.5.0",
            "_view_count": null,
            "_view_module_version": "1.2.0",
            "bar_color": null,
            "_model_module": "@jupyter-widgets/controls"
          }
        },
        "ccf0e140dedf430b97e1827dff630b03": {
          "model_module": "@jupyter-widgets/base",
          "model_name": "LayoutModel",
          "state": {
            "_view_name": "LayoutView",
            "grid_template_rows": null,
            "right": null,
            "justify_content": null,
            "_view_module": "@jupyter-widgets/base",
            "overflow": null,
            "_model_module_version": "1.2.0",
            "_view_count": null,
            "flex_flow": null,
            "width": null,
            "min_width": null,
            "border": null,
            "align_items": null,
            "bottom": null,
            "_model_module": "@jupyter-widgets/base",
            "top": null,
            "grid_column": null,
            "overflow_y": null,
            "overflow_x": null,
            "grid_auto_flow": null,
            "grid_area": null,
            "grid_template_columns": null,
            "flex": null,
            "_model_name": "LayoutModel",
            "justify_items": null,
            "grid_row": null,
            "max_height": null,
            "align_content": null,
            "visibility": null,
            "align_self": null,
            "height": null,
            "min_height": null,
            "padding": null,
            "grid_auto_rows": null,
            "grid_gap": null,
            "max_width": null,
            "order": null,
            "_view_module_version": "1.2.0",
            "grid_template_areas": null,
            "object_position": null,
            "object_fit": null,
            "grid_auto_columns": null,
            "margin": null,
            "display": null,
            "left": null
          }
        },
        "eabf773bc03b452fa691c51d2bfca109": {
          "model_module": "@jupyter-widgets/controls",
          "model_name": "DescriptionStyleModel",
          "state": {
            "_view_name": "StyleView",
            "_model_name": "DescriptionStyleModel",
            "description_width": "",
            "_view_module": "@jupyter-widgets/base",
            "_model_module_version": "1.5.0",
            "_view_count": null,
            "_view_module_version": "1.2.0",
            "_model_module": "@jupyter-widgets/controls"
          }
        },
        "6b87d15ab89d414eb49a0bccc98c4efc": {
          "model_module": "@jupyter-widgets/base",
          "model_name": "LayoutModel",
          "state": {
            "_view_name": "LayoutView",
            "grid_template_rows": null,
            "right": null,
            "justify_content": null,
            "_view_module": "@jupyter-widgets/base",
            "overflow": null,
            "_model_module_version": "1.2.0",
            "_view_count": null,
            "flex_flow": null,
            "width": null,
            "min_width": null,
            "border": null,
            "align_items": null,
            "bottom": null,
            "_model_module": "@jupyter-widgets/base",
            "top": null,
            "grid_column": null,
            "overflow_y": null,
            "overflow_x": null,
            "grid_auto_flow": null,
            "grid_area": null,
            "grid_template_columns": null,
            "flex": null,
            "_model_name": "LayoutModel",
            "justify_items": null,
            "grid_row": null,
            "max_height": null,
            "align_content": null,
            "visibility": null,
            "align_self": null,
            "height": null,
            "min_height": null,
            "padding": null,
            "grid_auto_rows": null,
            "grid_gap": null,
            "max_width": null,
            "order": null,
            "_view_module_version": "1.2.0",
            "grid_template_areas": null,
            "object_position": null,
            "object_fit": null,
            "grid_auto_columns": null,
            "margin": null,
            "display": null,
            "left": null
          }
        },
        "9392623417c24156940cf7cd0f0a1384": {
          "model_module": "@jupyter-widgets/controls",
          "model_name": "HBoxModel",
          "state": {
            "_view_name": "HBoxView",
            "_dom_classes": [],
            "_model_name": "HBoxModel",
            "_view_module": "@jupyter-widgets/controls",
            "_model_module_version": "1.5.0",
            "_view_count": null,
            "_view_module_version": "1.5.0",
            "box_style": "",
            "layout": "IPY_MODEL_14efd104996643d7b290e2084584ca01",
            "_model_module": "@jupyter-widgets/controls",
            "children": [
              "IPY_MODEL_12cefae2d9ad4099a9931981422f0521",
              "IPY_MODEL_ec0fa60b71cc40c5bdf65604357e055b"
            ]
          }
        },
        "14efd104996643d7b290e2084584ca01": {
          "model_module": "@jupyter-widgets/base",
          "model_name": "LayoutModel",
          "state": {
            "_view_name": "LayoutView",
            "grid_template_rows": null,
            "right": null,
            "justify_content": null,
            "_view_module": "@jupyter-widgets/base",
            "overflow": null,
            "_model_module_version": "1.2.0",
            "_view_count": null,
            "flex_flow": null,
            "width": null,
            "min_width": null,
            "border": null,
            "align_items": null,
            "bottom": null,
            "_model_module": "@jupyter-widgets/base",
            "top": null,
            "grid_column": null,
            "overflow_y": null,
            "overflow_x": null,
            "grid_auto_flow": null,
            "grid_area": null,
            "grid_template_columns": null,
            "flex": null,
            "_model_name": "LayoutModel",
            "justify_items": null,
            "grid_row": null,
            "max_height": null,
            "align_content": null,
            "visibility": null,
            "align_self": null,
            "height": null,
            "min_height": null,
            "padding": null,
            "grid_auto_rows": null,
            "grid_gap": null,
            "max_width": null,
            "order": null,
            "_view_module_version": "1.2.0",
            "grid_template_areas": null,
            "object_position": null,
            "object_fit": null,
            "grid_auto_columns": null,
            "margin": null,
            "display": null,
            "left": null
          }
        },
        "12cefae2d9ad4099a9931981422f0521": {
          "model_module": "@jupyter-widgets/controls",
          "model_name": "FloatProgressModel",
          "state": {
            "_view_name": "ProgressView",
            "style": "IPY_MODEL_9ff6b0e11f4e42a8b931245493c52b36",
            "_dom_classes": [],
            "description": "100%",
            "_model_name": "FloatProgressModel",
            "bar_style": "success",
            "max": 100,
            "_view_module": "@jupyter-widgets/controls",
            "_model_module_version": "1.5.0",
            "value": 100,
            "_view_count": null,
            "_view_module_version": "1.5.0",
            "orientation": "horizontal",
            "min": 0,
            "description_tooltip": null,
            "_model_module": "@jupyter-widgets/controls",
            "layout": "IPY_MODEL_01e14f4947534aefa7445ada8a6472df"
          }
        },
        "ec0fa60b71cc40c5bdf65604357e055b": {
          "model_module": "@jupyter-widgets/controls",
          "model_name": "HTMLModel",
          "state": {
            "_view_name": "HTMLView",
            "style": "IPY_MODEL_f7257d830d5f44269b2af1470b5f06f5",
            "_dom_classes": [],
            "description": "",
            "_model_name": "HTMLModel",
            "placeholder": "​",
            "_view_module": "@jupyter-widgets/controls",
            "_model_module_version": "1.5.0",
            "value": " 100/100 [00:06&lt;00:00, 14.89it/s]",
            "_view_count": null,
            "_view_module_version": "1.5.0",
            "description_tooltip": null,
            "_model_module": "@jupyter-widgets/controls",
            "layout": "IPY_MODEL_81a72826dc9e4f58b2e6aec1af56e117"
          }
        },
        "9ff6b0e11f4e42a8b931245493c52b36": {
          "model_module": "@jupyter-widgets/controls",
          "model_name": "ProgressStyleModel",
          "state": {
            "_view_name": "StyleView",
            "_model_name": "ProgressStyleModel",
            "description_width": "initial",
            "_view_module": "@jupyter-widgets/base",
            "_model_module_version": "1.5.0",
            "_view_count": null,
            "_view_module_version": "1.2.0",
            "bar_color": null,
            "_model_module": "@jupyter-widgets/controls"
          }
        },
        "01e14f4947534aefa7445ada8a6472df": {
          "model_module": "@jupyter-widgets/base",
          "model_name": "LayoutModel",
          "state": {
            "_view_name": "LayoutView",
            "grid_template_rows": null,
            "right": null,
            "justify_content": null,
            "_view_module": "@jupyter-widgets/base",
            "overflow": null,
            "_model_module_version": "1.2.0",
            "_view_count": null,
            "flex_flow": null,
            "width": null,
            "min_width": null,
            "border": null,
            "align_items": null,
            "bottom": null,
            "_model_module": "@jupyter-widgets/base",
            "top": null,
            "grid_column": null,
            "overflow_y": null,
            "overflow_x": null,
            "grid_auto_flow": null,
            "grid_area": null,
            "grid_template_columns": null,
            "flex": null,
            "_model_name": "LayoutModel",
            "justify_items": null,
            "grid_row": null,
            "max_height": null,
            "align_content": null,
            "visibility": null,
            "align_self": null,
            "height": null,
            "min_height": null,
            "padding": null,
            "grid_auto_rows": null,
            "grid_gap": null,
            "max_width": null,
            "order": null,
            "_view_module_version": "1.2.0",
            "grid_template_areas": null,
            "object_position": null,
            "object_fit": null,
            "grid_auto_columns": null,
            "margin": null,
            "display": null,
            "left": null
          }
        },
        "f7257d830d5f44269b2af1470b5f06f5": {
          "model_module": "@jupyter-widgets/controls",
          "model_name": "DescriptionStyleModel",
          "state": {
            "_view_name": "StyleView",
            "_model_name": "DescriptionStyleModel",
            "description_width": "",
            "_view_module": "@jupyter-widgets/base",
            "_model_module_version": "1.5.0",
            "_view_count": null,
            "_view_module_version": "1.2.0",
            "_model_module": "@jupyter-widgets/controls"
          }
        },
        "81a72826dc9e4f58b2e6aec1af56e117": {
          "model_module": "@jupyter-widgets/base",
          "model_name": "LayoutModel",
          "state": {
            "_view_name": "LayoutView",
            "grid_template_rows": null,
            "right": null,
            "justify_content": null,
            "_view_module": "@jupyter-widgets/base",
            "overflow": null,
            "_model_module_version": "1.2.0",
            "_view_count": null,
            "flex_flow": null,
            "width": null,
            "min_width": null,
            "border": null,
            "align_items": null,
            "bottom": null,
            "_model_module": "@jupyter-widgets/base",
            "top": null,
            "grid_column": null,
            "overflow_y": null,
            "overflow_x": null,
            "grid_auto_flow": null,
            "grid_area": null,
            "grid_template_columns": null,
            "flex": null,
            "_model_name": "LayoutModel",
            "justify_items": null,
            "grid_row": null,
            "max_height": null,
            "align_content": null,
            "visibility": null,
            "align_self": null,
            "height": null,
            "min_height": null,
            "padding": null,
            "grid_auto_rows": null,
            "grid_gap": null,
            "max_width": null,
            "order": null,
            "_view_module_version": "1.2.0",
            "grid_template_areas": null,
            "object_position": null,
            "object_fit": null,
            "grid_auto_columns": null,
            "margin": null,
            "display": null,
            "left": null
          }
        },
        "13c7044306c44a1e9c909d383975a24f": {
          "model_module": "@jupyter-widgets/controls",
          "model_name": "HBoxModel",
          "state": {
            "_view_name": "HBoxView",
            "_dom_classes": [],
            "_model_name": "HBoxModel",
            "_view_module": "@jupyter-widgets/controls",
            "_model_module_version": "1.5.0",
            "_view_count": null,
            "_view_module_version": "1.5.0",
            "box_style": "",
            "layout": "IPY_MODEL_db83b9787bf9439e87fa66331afa18e2",
            "_model_module": "@jupyter-widgets/controls",
            "children": [
              "IPY_MODEL_eeb3d08dca82479e979f8c6c884a515d",
              "IPY_MODEL_9790f1635a934a8286b478cfdf96a969"
            ]
          }
        },
        "db83b9787bf9439e87fa66331afa18e2": {
          "model_module": "@jupyter-widgets/base",
          "model_name": "LayoutModel",
          "state": {
            "_view_name": "LayoutView",
            "grid_template_rows": null,
            "right": null,
            "justify_content": null,
            "_view_module": "@jupyter-widgets/base",
            "overflow": null,
            "_model_module_version": "1.2.0",
            "_view_count": null,
            "flex_flow": null,
            "width": null,
            "min_width": null,
            "border": null,
            "align_items": null,
            "bottom": null,
            "_model_module": "@jupyter-widgets/base",
            "top": null,
            "grid_column": null,
            "overflow_y": null,
            "overflow_x": null,
            "grid_auto_flow": null,
            "grid_area": null,
            "grid_template_columns": null,
            "flex": null,
            "_model_name": "LayoutModel",
            "justify_items": null,
            "grid_row": null,
            "max_height": null,
            "align_content": null,
            "visibility": null,
            "align_self": null,
            "height": null,
            "min_height": null,
            "padding": null,
            "grid_auto_rows": null,
            "grid_gap": null,
            "max_width": null,
            "order": null,
            "_view_module_version": "1.2.0",
            "grid_template_areas": null,
            "object_position": null,
            "object_fit": null,
            "grid_auto_columns": null,
            "margin": null,
            "display": null,
            "left": null
          }
        },
        "eeb3d08dca82479e979f8c6c884a515d": {
          "model_module": "@jupyter-widgets/controls",
          "model_name": "FloatProgressModel",
          "state": {
            "_view_name": "ProgressView",
            "style": "IPY_MODEL_729d5a17f69049c48dd83817738e049f",
            "_dom_classes": [],
            "description": "100%",
            "_model_name": "FloatProgressModel",
            "bar_style": "success",
            "max": 100,
            "_view_module": "@jupyter-widgets/controls",
            "_model_module_version": "1.5.0",
            "value": 100,
            "_view_count": null,
            "_view_module_version": "1.5.0",
            "orientation": "horizontal",
            "min": 0,
            "description_tooltip": null,
            "_model_module": "@jupyter-widgets/controls",
            "layout": "IPY_MODEL_c9f555cf99c5421dbfd4d4aed01e2c9d"
          }
        },
        "9790f1635a934a8286b478cfdf96a969": {
          "model_module": "@jupyter-widgets/controls",
          "model_name": "HTMLModel",
          "state": {
            "_view_name": "HTMLView",
            "style": "IPY_MODEL_045298f4a023439ca32c29c45dae96a1",
            "_dom_classes": [],
            "description": "",
            "_model_name": "HTMLModel",
            "placeholder": "​",
            "_view_module": "@jupyter-widgets/controls",
            "_model_module_version": "1.5.0",
            "value": " 100/100 [00:11&lt;00:00,  8.54it/s]",
            "_view_count": null,
            "_view_module_version": "1.5.0",
            "description_tooltip": null,
            "_model_module": "@jupyter-widgets/controls",
            "layout": "IPY_MODEL_98ef86a1e3cc4fa2a5e08c0f4ee6c360"
          }
        },
        "729d5a17f69049c48dd83817738e049f": {
          "model_module": "@jupyter-widgets/controls",
          "model_name": "ProgressStyleModel",
          "state": {
            "_view_name": "StyleView",
            "_model_name": "ProgressStyleModel",
            "description_width": "initial",
            "_view_module": "@jupyter-widgets/base",
            "_model_module_version": "1.5.0",
            "_view_count": null,
            "_view_module_version": "1.2.0",
            "bar_color": null,
            "_model_module": "@jupyter-widgets/controls"
          }
        },
        "c9f555cf99c5421dbfd4d4aed01e2c9d": {
          "model_module": "@jupyter-widgets/base",
          "model_name": "LayoutModel",
          "state": {
            "_view_name": "LayoutView",
            "grid_template_rows": null,
            "right": null,
            "justify_content": null,
            "_view_module": "@jupyter-widgets/base",
            "overflow": null,
            "_model_module_version": "1.2.0",
            "_view_count": null,
            "flex_flow": null,
            "width": null,
            "min_width": null,
            "border": null,
            "align_items": null,
            "bottom": null,
            "_model_module": "@jupyter-widgets/base",
            "top": null,
            "grid_column": null,
            "overflow_y": null,
            "overflow_x": null,
            "grid_auto_flow": null,
            "grid_area": null,
            "grid_template_columns": null,
            "flex": null,
            "_model_name": "LayoutModel",
            "justify_items": null,
            "grid_row": null,
            "max_height": null,
            "align_content": null,
            "visibility": null,
            "align_self": null,
            "height": null,
            "min_height": null,
            "padding": null,
            "grid_auto_rows": null,
            "grid_gap": null,
            "max_width": null,
            "order": null,
            "_view_module_version": "1.2.0",
            "grid_template_areas": null,
            "object_position": null,
            "object_fit": null,
            "grid_auto_columns": null,
            "margin": null,
            "display": null,
            "left": null
          }
        },
        "045298f4a023439ca32c29c45dae96a1": {
          "model_module": "@jupyter-widgets/controls",
          "model_name": "DescriptionStyleModel",
          "state": {
            "_view_name": "StyleView",
            "_model_name": "DescriptionStyleModel",
            "description_width": "",
            "_view_module": "@jupyter-widgets/base",
            "_model_module_version": "1.5.0",
            "_view_count": null,
            "_view_module_version": "1.2.0",
            "_model_module": "@jupyter-widgets/controls"
          }
        },
        "98ef86a1e3cc4fa2a5e08c0f4ee6c360": {
          "model_module": "@jupyter-widgets/base",
          "model_name": "LayoutModel",
          "state": {
            "_view_name": "LayoutView",
            "grid_template_rows": null,
            "right": null,
            "justify_content": null,
            "_view_module": "@jupyter-widgets/base",
            "overflow": null,
            "_model_module_version": "1.2.0",
            "_view_count": null,
            "flex_flow": null,
            "width": null,
            "min_width": null,
            "border": null,
            "align_items": null,
            "bottom": null,
            "_model_module": "@jupyter-widgets/base",
            "top": null,
            "grid_column": null,
            "overflow_y": null,
            "overflow_x": null,
            "grid_auto_flow": null,
            "grid_area": null,
            "grid_template_columns": null,
            "flex": null,
            "_model_name": "LayoutModel",
            "justify_items": null,
            "grid_row": null,
            "max_height": null,
            "align_content": null,
            "visibility": null,
            "align_self": null,
            "height": null,
            "min_height": null,
            "padding": null,
            "grid_auto_rows": null,
            "grid_gap": null,
            "max_width": null,
            "order": null,
            "_view_module_version": "1.2.0",
            "grid_template_areas": null,
            "object_position": null,
            "object_fit": null,
            "grid_auto_columns": null,
            "margin": null,
            "display": null,
            "left": null
          }
        },
        "777baea153c24eaa8b5bab45cace2faa": {
          "model_module": "@jupyter-widgets/controls",
          "model_name": "HBoxModel",
          "state": {
            "_view_name": "HBoxView",
            "_dom_classes": [],
            "_model_name": "HBoxModel",
            "_view_module": "@jupyter-widgets/controls",
            "_model_module_version": "1.5.0",
            "_view_count": null,
            "_view_module_version": "1.5.0",
            "box_style": "",
            "layout": "IPY_MODEL_6890553994164b08be68bc1001ba16dd",
            "_model_module": "@jupyter-widgets/controls",
            "children": [
              "IPY_MODEL_70921f8b204c42509217b6104aacea6a",
              "IPY_MODEL_f503694e3871474abce6f3533161f7a6"
            ]
          }
        },
        "6890553994164b08be68bc1001ba16dd": {
          "model_module": "@jupyter-widgets/base",
          "model_name": "LayoutModel",
          "state": {
            "_view_name": "LayoutView",
            "grid_template_rows": null,
            "right": null,
            "justify_content": null,
            "_view_module": "@jupyter-widgets/base",
            "overflow": null,
            "_model_module_version": "1.2.0",
            "_view_count": null,
            "flex_flow": null,
            "width": null,
            "min_width": null,
            "border": null,
            "align_items": null,
            "bottom": null,
            "_model_module": "@jupyter-widgets/base",
            "top": null,
            "grid_column": null,
            "overflow_y": null,
            "overflow_x": null,
            "grid_auto_flow": null,
            "grid_area": null,
            "grid_template_columns": null,
            "flex": null,
            "_model_name": "LayoutModel",
            "justify_items": null,
            "grid_row": null,
            "max_height": null,
            "align_content": null,
            "visibility": null,
            "align_self": null,
            "height": null,
            "min_height": null,
            "padding": null,
            "grid_auto_rows": null,
            "grid_gap": null,
            "max_width": null,
            "order": null,
            "_view_module_version": "1.2.0",
            "grid_template_areas": null,
            "object_position": null,
            "object_fit": null,
            "grid_auto_columns": null,
            "margin": null,
            "display": null,
            "left": null
          }
        },
        "70921f8b204c42509217b6104aacea6a": {
          "model_module": "@jupyter-widgets/controls",
          "model_name": "FloatProgressModel",
          "state": {
            "_view_name": "ProgressView",
            "style": "IPY_MODEL_999217bb99f04e5bb14771ec9a84affe",
            "_dom_classes": [],
            "description": "100%",
            "_model_name": "FloatProgressModel",
            "bar_style": "success",
            "max": 1277282,
            "_view_module": "@jupyter-widgets/controls",
            "_model_module_version": "1.5.0",
            "value": 1277282,
            "_view_count": null,
            "_view_module_version": "1.5.0",
            "orientation": "horizontal",
            "min": 0,
            "description_tooltip": null,
            "_model_module": "@jupyter-widgets/controls",
            "layout": "IPY_MODEL_f17390495bed4cb4b6e397503e932297"
          }
        },
        "f503694e3871474abce6f3533161f7a6": {
          "model_module": "@jupyter-widgets/controls",
          "model_name": "HTMLModel",
          "state": {
            "_view_name": "HTMLView",
            "style": "IPY_MODEL_aaeaeb46325248119d8b23aff73f514e",
            "_dom_classes": [],
            "description": "",
            "_model_name": "HTMLModel",
            "placeholder": "​",
            "_view_module": "@jupyter-widgets/controls",
            "_model_module_version": "1.5.0",
            "value": " 1277282/1277282 [00:08&lt;00:00, 153278.72it/s]",
            "_view_count": null,
            "_view_module_version": "1.5.0",
            "description_tooltip": null,
            "_model_module": "@jupyter-widgets/controls",
            "layout": "IPY_MODEL_ca3cfe6249e040c5880744ada5f801fb"
          }
        },
        "999217bb99f04e5bb14771ec9a84affe": {
          "model_module": "@jupyter-widgets/controls",
          "model_name": "ProgressStyleModel",
          "state": {
            "_view_name": "StyleView",
            "_model_name": "ProgressStyleModel",
            "description_width": "initial",
            "_view_module": "@jupyter-widgets/base",
            "_model_module_version": "1.5.0",
            "_view_count": null,
            "_view_module_version": "1.2.0",
            "bar_color": null,
            "_model_module": "@jupyter-widgets/controls"
          }
        },
        "f17390495bed4cb4b6e397503e932297": {
          "model_module": "@jupyter-widgets/base",
          "model_name": "LayoutModel",
          "state": {
            "_view_name": "LayoutView",
            "grid_template_rows": null,
            "right": null,
            "justify_content": null,
            "_view_module": "@jupyter-widgets/base",
            "overflow": null,
            "_model_module_version": "1.2.0",
            "_view_count": null,
            "flex_flow": null,
            "width": null,
            "min_width": null,
            "border": null,
            "align_items": null,
            "bottom": null,
            "_model_module": "@jupyter-widgets/base",
            "top": null,
            "grid_column": null,
            "overflow_y": null,
            "overflow_x": null,
            "grid_auto_flow": null,
            "grid_area": null,
            "grid_template_columns": null,
            "flex": null,
            "_model_name": "LayoutModel",
            "justify_items": null,
            "grid_row": null,
            "max_height": null,
            "align_content": null,
            "visibility": null,
            "align_self": null,
            "height": null,
            "min_height": null,
            "padding": null,
            "grid_auto_rows": null,
            "grid_gap": null,
            "max_width": null,
            "order": null,
            "_view_module_version": "1.2.0",
            "grid_template_areas": null,
            "object_position": null,
            "object_fit": null,
            "grid_auto_columns": null,
            "margin": null,
            "display": null,
            "left": null
          }
        },
        "aaeaeb46325248119d8b23aff73f514e": {
          "model_module": "@jupyter-widgets/controls",
          "model_name": "DescriptionStyleModel",
          "state": {
            "_view_name": "StyleView",
            "_model_name": "DescriptionStyleModel",
            "description_width": "",
            "_view_module": "@jupyter-widgets/base",
            "_model_module_version": "1.5.0",
            "_view_count": null,
            "_view_module_version": "1.2.0",
            "_model_module": "@jupyter-widgets/controls"
          }
        },
        "ca3cfe6249e040c5880744ada5f801fb": {
          "model_module": "@jupyter-widgets/base",
          "model_name": "LayoutModel",
          "state": {
            "_view_name": "LayoutView",
            "grid_template_rows": null,
            "right": null,
            "justify_content": null,
            "_view_module": "@jupyter-widgets/base",
            "overflow": null,
            "_model_module_version": "1.2.0",
            "_view_count": null,
            "flex_flow": null,
            "width": null,
            "min_width": null,
            "border": null,
            "align_items": null,
            "bottom": null,
            "_model_module": "@jupyter-widgets/base",
            "top": null,
            "grid_column": null,
            "overflow_y": null,
            "overflow_x": null,
            "grid_auto_flow": null,
            "grid_area": null,
            "grid_template_columns": null,
            "flex": null,
            "_model_name": "LayoutModel",
            "justify_items": null,
            "grid_row": null,
            "max_height": null,
            "align_content": null,
            "visibility": null,
            "align_self": null,
            "height": null,
            "min_height": null,
            "padding": null,
            "grid_auto_rows": null,
            "grid_gap": null,
            "max_width": null,
            "order": null,
            "_view_module_version": "1.2.0",
            "grid_template_areas": null,
            "object_position": null,
            "object_fit": null,
            "grid_auto_columns": null,
            "margin": null,
            "display": null,
            "left": null
          }
        },
        "005d75392bfa4c7c8a9ae881e4e7718d": {
          "model_module": "@jupyter-widgets/controls",
          "model_name": "HBoxModel",
          "state": {
            "_view_name": "HBoxView",
            "_dom_classes": [],
            "_model_name": "HBoxModel",
            "_view_module": "@jupyter-widgets/controls",
            "_model_module_version": "1.5.0",
            "_view_count": null,
            "_view_module_version": "1.5.0",
            "box_style": "",
            "layout": "IPY_MODEL_82353dd5671e4c6cb183360bbfff3554",
            "_model_module": "@jupyter-widgets/controls",
            "children": [
              "IPY_MODEL_ecc5f67b50a14a33aca7c5adeb097937",
              "IPY_MODEL_23a7166f6be3438db3d6685a704abf2c"
            ]
          }
        },
        "82353dd5671e4c6cb183360bbfff3554": {
          "model_module": "@jupyter-widgets/base",
          "model_name": "LayoutModel",
          "state": {
            "_view_name": "LayoutView",
            "grid_template_rows": null,
            "right": null,
            "justify_content": null,
            "_view_module": "@jupyter-widgets/base",
            "overflow": null,
            "_model_module_version": "1.2.0",
            "_view_count": null,
            "flex_flow": null,
            "width": null,
            "min_width": null,
            "border": null,
            "align_items": null,
            "bottom": null,
            "_model_module": "@jupyter-widgets/base",
            "top": null,
            "grid_column": null,
            "overflow_y": null,
            "overflow_x": null,
            "grid_auto_flow": null,
            "grid_area": null,
            "grid_template_columns": null,
            "flex": null,
            "_model_name": "LayoutModel",
            "justify_items": null,
            "grid_row": null,
            "max_height": null,
            "align_content": null,
            "visibility": null,
            "align_self": null,
            "height": null,
            "min_height": null,
            "padding": null,
            "grid_auto_rows": null,
            "grid_gap": null,
            "max_width": null,
            "order": null,
            "_view_module_version": "1.2.0",
            "grid_template_areas": null,
            "object_position": null,
            "object_fit": null,
            "grid_auto_columns": null,
            "margin": null,
            "display": null,
            "left": null
          }
        },
        "ecc5f67b50a14a33aca7c5adeb097937": {
          "model_module": "@jupyter-widgets/controls",
          "model_name": "FloatProgressModel",
          "state": {
            "_view_name": "ProgressView",
            "style": "IPY_MODEL_ed5f0f14f631471c81b467249581d634",
            "_dom_classes": [],
            "description": "100%",
            "_model_name": "FloatProgressModel",
            "bar_style": "success",
            "max": 48,
            "_view_module": "@jupyter-widgets/controls",
            "_model_module_version": "1.5.0",
            "value": 48,
            "_view_count": null,
            "_view_module_version": "1.5.0",
            "orientation": "horizontal",
            "min": 0,
            "description_tooltip": null,
            "_model_module": "@jupyter-widgets/controls",
            "layout": "IPY_MODEL_a2cf5a562e5d4c28b3125c1ddb48224c"
          }
        },
        "23a7166f6be3438db3d6685a704abf2c": {
          "model_module": "@jupyter-widgets/controls",
          "model_name": "HTMLModel",
          "state": {
            "_view_name": "HTMLView",
            "style": "IPY_MODEL_6f0e55dce9bd40cabe6418de77813872",
            "_dom_classes": [],
            "description": "",
            "_model_name": "HTMLModel",
            "placeholder": "​",
            "_view_module": "@jupyter-widgets/controls",
            "_model_module_version": "1.5.0",
            "value": " 48/48 [01:21&lt;00:00,  1.69s/it]",
            "_view_count": null,
            "_view_module_version": "1.5.0",
            "description_tooltip": null,
            "_model_module": "@jupyter-widgets/controls",
            "layout": "IPY_MODEL_e2e9cb95222f4800995a270abdb4d36a"
          }
        },
        "ed5f0f14f631471c81b467249581d634": {
          "model_module": "@jupyter-widgets/controls",
          "model_name": "ProgressStyleModel",
          "state": {
            "_view_name": "StyleView",
            "_model_name": "ProgressStyleModel",
            "description_width": "initial",
            "_view_module": "@jupyter-widgets/base",
            "_model_module_version": "1.5.0",
            "_view_count": null,
            "_view_module_version": "1.2.0",
            "bar_color": null,
            "_model_module": "@jupyter-widgets/controls"
          }
        },
        "a2cf5a562e5d4c28b3125c1ddb48224c": {
          "model_module": "@jupyter-widgets/base",
          "model_name": "LayoutModel",
          "state": {
            "_view_name": "LayoutView",
            "grid_template_rows": null,
            "right": null,
            "justify_content": null,
            "_view_module": "@jupyter-widgets/base",
            "overflow": null,
            "_model_module_version": "1.2.0",
            "_view_count": null,
            "flex_flow": null,
            "width": null,
            "min_width": null,
            "border": null,
            "align_items": null,
            "bottom": null,
            "_model_module": "@jupyter-widgets/base",
            "top": null,
            "grid_column": null,
            "overflow_y": null,
            "overflow_x": null,
            "grid_auto_flow": null,
            "grid_area": null,
            "grid_template_columns": null,
            "flex": null,
            "_model_name": "LayoutModel",
            "justify_items": null,
            "grid_row": null,
            "max_height": null,
            "align_content": null,
            "visibility": null,
            "align_self": null,
            "height": null,
            "min_height": null,
            "padding": null,
            "grid_auto_rows": null,
            "grid_gap": null,
            "max_width": null,
            "order": null,
            "_view_module_version": "1.2.0",
            "grid_template_areas": null,
            "object_position": null,
            "object_fit": null,
            "grid_auto_columns": null,
            "margin": null,
            "display": null,
            "left": null
          }
        },
        "6f0e55dce9bd40cabe6418de77813872": {
          "model_module": "@jupyter-widgets/controls",
          "model_name": "DescriptionStyleModel",
          "state": {
            "_view_name": "StyleView",
            "_model_name": "DescriptionStyleModel",
            "description_width": "",
            "_view_module": "@jupyter-widgets/base",
            "_model_module_version": "1.5.0",
            "_view_count": null,
            "_view_module_version": "1.2.0",
            "_model_module": "@jupyter-widgets/controls"
          }
        },
        "e2e9cb95222f4800995a270abdb4d36a": {
          "model_module": "@jupyter-widgets/base",
          "model_name": "LayoutModel",
          "state": {
            "_view_name": "LayoutView",
            "grid_template_rows": null,
            "right": null,
            "justify_content": null,
            "_view_module": "@jupyter-widgets/base",
            "overflow": null,
            "_model_module_version": "1.2.0",
            "_view_count": null,
            "flex_flow": null,
            "width": null,
            "min_width": null,
            "border": null,
            "align_items": null,
            "bottom": null,
            "_model_module": "@jupyter-widgets/base",
            "top": null,
            "grid_column": null,
            "overflow_y": null,
            "overflow_x": null,
            "grid_auto_flow": null,
            "grid_area": null,
            "grid_template_columns": null,
            "flex": null,
            "_model_name": "LayoutModel",
            "justify_items": null,
            "grid_row": null,
            "max_height": null,
            "align_content": null,
            "visibility": null,
            "align_self": null,
            "height": null,
            "min_height": null,
            "padding": null,
            "grid_auto_rows": null,
            "grid_gap": null,
            "max_width": null,
            "order": null,
            "_view_module_version": "1.2.0",
            "grid_template_areas": null,
            "object_position": null,
            "object_fit": null,
            "grid_auto_columns": null,
            "margin": null,
            "display": null,
            "left": null
          }
        },
        "c75e5835d3e74103973af56cd4c55953": {
          "model_module": "@jupyter-widgets/controls",
          "model_name": "HBoxModel",
          "state": {
            "_view_name": "HBoxView",
            "_dom_classes": [],
            "_model_name": "HBoxModel",
            "_view_module": "@jupyter-widgets/controls",
            "_model_module_version": "1.5.0",
            "_view_count": null,
            "_view_module_version": "1.5.0",
            "box_style": "",
            "layout": "IPY_MODEL_f5a1de34521e403bb1dd1abdf4085ed7",
            "_model_module": "@jupyter-widgets/controls",
            "children": [
              "IPY_MODEL_d694a4e7a5a244d7aafdb50bb1075362",
              "IPY_MODEL_b4aa3035f4c94e87bc6f83ee8a4f0787"
            ]
          }
        },
        "f5a1de34521e403bb1dd1abdf4085ed7": {
          "model_module": "@jupyter-widgets/base",
          "model_name": "LayoutModel",
          "state": {
            "_view_name": "LayoutView",
            "grid_template_rows": null,
            "right": null,
            "justify_content": null,
            "_view_module": "@jupyter-widgets/base",
            "overflow": null,
            "_model_module_version": "1.2.0",
            "_view_count": null,
            "flex_flow": null,
            "width": null,
            "min_width": null,
            "border": null,
            "align_items": null,
            "bottom": null,
            "_model_module": "@jupyter-widgets/base",
            "top": null,
            "grid_column": null,
            "overflow_y": null,
            "overflow_x": null,
            "grid_auto_flow": null,
            "grid_area": null,
            "grid_template_columns": null,
            "flex": null,
            "_model_name": "LayoutModel",
            "justify_items": null,
            "grid_row": null,
            "max_height": null,
            "align_content": null,
            "visibility": null,
            "align_self": null,
            "height": null,
            "min_height": null,
            "padding": null,
            "grid_auto_rows": null,
            "grid_gap": null,
            "max_width": null,
            "order": null,
            "_view_module_version": "1.2.0",
            "grid_template_areas": null,
            "object_position": null,
            "object_fit": null,
            "grid_auto_columns": null,
            "margin": null,
            "display": null,
            "left": null
          }
        },
        "d694a4e7a5a244d7aafdb50bb1075362": {
          "model_module": "@jupyter-widgets/controls",
          "model_name": "FloatProgressModel",
          "state": {
            "_view_name": "ProgressView",
            "style": "IPY_MODEL_09cbd5b158d14d5fab76d53bdeb79516",
            "_dom_classes": [],
            "description": "100%",
            "_model_name": "FloatProgressModel",
            "bar_style": "success",
            "max": 100,
            "_view_module": "@jupyter-widgets/controls",
            "_model_module_version": "1.5.0",
            "value": 100,
            "_view_count": null,
            "_view_module_version": "1.5.0",
            "orientation": "horizontal",
            "min": 0,
            "description_tooltip": null,
            "_model_module": "@jupyter-widgets/controls",
            "layout": "IPY_MODEL_9d8a76db17834c3680d1634ab6e4673e"
          }
        },
        "b4aa3035f4c94e87bc6f83ee8a4f0787": {
          "model_module": "@jupyter-widgets/controls",
          "model_name": "HTMLModel",
          "state": {
            "_view_name": "HTMLView",
            "style": "IPY_MODEL_7893e138032842fb8b32437635313bbf",
            "_dom_classes": [],
            "description": "",
            "_model_name": "HTMLModel",
            "placeholder": "​",
            "_view_module": "@jupyter-widgets/controls",
            "_model_module_version": "1.5.0",
            "value": " 100/100 [00:35&lt;00:00,  2.82it/s]",
            "_view_count": null,
            "_view_module_version": "1.5.0",
            "description_tooltip": null,
            "_model_module": "@jupyter-widgets/controls",
            "layout": "IPY_MODEL_49cc61d23673472f8cce36b9aff307f8"
          }
        },
        "09cbd5b158d14d5fab76d53bdeb79516": {
          "model_module": "@jupyter-widgets/controls",
          "model_name": "ProgressStyleModel",
          "state": {
            "_view_name": "StyleView",
            "_model_name": "ProgressStyleModel",
            "description_width": "initial",
            "_view_module": "@jupyter-widgets/base",
            "_model_module_version": "1.5.0",
            "_view_count": null,
            "_view_module_version": "1.2.0",
            "bar_color": null,
            "_model_module": "@jupyter-widgets/controls"
          }
        },
        "9d8a76db17834c3680d1634ab6e4673e": {
          "model_module": "@jupyter-widgets/base",
          "model_name": "LayoutModel",
          "state": {
            "_view_name": "LayoutView",
            "grid_template_rows": null,
            "right": null,
            "justify_content": null,
            "_view_module": "@jupyter-widgets/base",
            "overflow": null,
            "_model_module_version": "1.2.0",
            "_view_count": null,
            "flex_flow": null,
            "width": null,
            "min_width": null,
            "border": null,
            "align_items": null,
            "bottom": null,
            "_model_module": "@jupyter-widgets/base",
            "top": null,
            "grid_column": null,
            "overflow_y": null,
            "overflow_x": null,
            "grid_auto_flow": null,
            "grid_area": null,
            "grid_template_columns": null,
            "flex": null,
            "_model_name": "LayoutModel",
            "justify_items": null,
            "grid_row": null,
            "max_height": null,
            "align_content": null,
            "visibility": null,
            "align_self": null,
            "height": null,
            "min_height": null,
            "padding": null,
            "grid_auto_rows": null,
            "grid_gap": null,
            "max_width": null,
            "order": null,
            "_view_module_version": "1.2.0",
            "grid_template_areas": null,
            "object_position": null,
            "object_fit": null,
            "grid_auto_columns": null,
            "margin": null,
            "display": null,
            "left": null
          }
        },
        "7893e138032842fb8b32437635313bbf": {
          "model_module": "@jupyter-widgets/controls",
          "model_name": "DescriptionStyleModel",
          "state": {
            "_view_name": "StyleView",
            "_model_name": "DescriptionStyleModel",
            "description_width": "",
            "_view_module": "@jupyter-widgets/base",
            "_model_module_version": "1.5.0",
            "_view_count": null,
            "_view_module_version": "1.2.0",
            "_model_module": "@jupyter-widgets/controls"
          }
        },
        "49cc61d23673472f8cce36b9aff307f8": {
          "model_module": "@jupyter-widgets/base",
          "model_name": "LayoutModel",
          "state": {
            "_view_name": "LayoutView",
            "grid_template_rows": null,
            "right": null,
            "justify_content": null,
            "_view_module": "@jupyter-widgets/base",
            "overflow": null,
            "_model_module_version": "1.2.0",
            "_view_count": null,
            "flex_flow": null,
            "width": null,
            "min_width": null,
            "border": null,
            "align_items": null,
            "bottom": null,
            "_model_module": "@jupyter-widgets/base",
            "top": null,
            "grid_column": null,
            "overflow_y": null,
            "overflow_x": null,
            "grid_auto_flow": null,
            "grid_area": null,
            "grid_template_columns": null,
            "flex": null,
            "_model_name": "LayoutModel",
            "justify_items": null,
            "grid_row": null,
            "max_height": null,
            "align_content": null,
            "visibility": null,
            "align_self": null,
            "height": null,
            "min_height": null,
            "padding": null,
            "grid_auto_rows": null,
            "grid_gap": null,
            "max_width": null,
            "order": null,
            "_view_module_version": "1.2.0",
            "grid_template_areas": null,
            "object_position": null,
            "object_fit": null,
            "grid_auto_columns": null,
            "margin": null,
            "display": null,
            "left": null
          }
        }
      }
    }
  },
  "cells": [
    {
      "cell_type": "code",
      "metadata": {
        "colab": {
          "base_uri": "https://localhost:8080/"
        },
        "id": "0oVC9bRFITpS",
        "outputId": "d1e8a3ba-4ed5-4814-b4db-ab14590f41a5"
      },
      "source": [
        "!wget 'https://s92vla.storage.yandex.net/rdisk/761710e745c5469b08b1a4b4f85b4421e3fb406730428454d7c4f049cfcb6da5/60bcab0b/ftRxSIsoXDYVYxJNhbHEOmhhRJAEEMpkrAHgQuEgquxrXBVJyfRRyALOzaVAaTdAzIp2ehUnWbYxx7NFA2W9Hw==?uid=0&filename=hackpromo_dataset.zip&disposition=attachment&hash=Ng5Q5LHIBXrec0YwH%2BBGn6fBTgQC%2BW/UIb8S4p5Y3lelx39wnbcKktkZftkvzHZWq/J6bpmRyOJonT3VoXnDag%3D%3D&limit=0&content_type=application%2Fzip&owner_uid=208103288&fsize=822296848&hid=8b836285dd4dfec28fe5fd5b6e0a8500&media_type=compressed&tknv=v2&rtoken=0jqtz1jbsAva&force_default=no&ycrid=na-01944591f8ce6766556c68b6de1abed7-downloader22f&ts=5c416d8e898c0&s=567cda5983508ce4f21757c41be6c4bb47616212de2bb8595aac29ce051243f0&pb=U2FsdGVkX1_Hqa_lNfuWMuVPqmBpaJAZgkSQgttW8w_Tuju_u3Y1bLN62K5cKu4y75BSAkhPX7FzIrLQPPHh2m97rumDDQ5epqwcUQy9cUY' -O hackpromo_dataset.zip"
      ],
      "execution_count": 2,
      "outputs": [
        {
          "output_type": "stream",
          "text": [
            "--2021-06-06 07:02:43--  https://s92vla.storage.yandex.net/rdisk/761710e745c5469b08b1a4b4f85b4421e3fb406730428454d7c4f049cfcb6da5/60bcab0b/ftRxSIsoXDYVYxJNhbHEOmhhRJAEEMpkrAHgQuEgquxrXBVJyfRRyALOzaVAaTdAzIp2ehUnWbYxx7NFA2W9Hw==?uid=0&filename=hackpromo_dataset.zip&disposition=attachment&hash=Ng5Q5LHIBXrec0YwH%2BBGn6fBTgQC%2BW/UIb8S4p5Y3lelx39wnbcKktkZftkvzHZWq/J6bpmRyOJonT3VoXnDag%3D%3D&limit=0&content_type=application%2Fzip&owner_uid=208103288&fsize=822296848&hid=8b836285dd4dfec28fe5fd5b6e0a8500&media_type=compressed&tknv=v2&rtoken=0jqtz1jbsAva&force_default=no&ycrid=na-01944591f8ce6766556c68b6de1abed7-downloader22f&ts=5c416d8e898c0&s=567cda5983508ce4f21757c41be6c4bb47616212de2bb8595aac29ce051243f0&pb=U2FsdGVkX1_Hqa_lNfuWMuVPqmBpaJAZgkSQgttW8w_Tuju_u3Y1bLN62K5cKu4y75BSAkhPX7FzIrLQPPHh2m97rumDDQ5epqwcUQy9cUY\n",
            "Resolving s92vla.storage.yandex.net (s92vla.storage.yandex.net)... 93.158.162.221, 2a02:6b8:c0e:363:0:41af:e158:a130\n",
            "Connecting to s92vla.storage.yandex.net (s92vla.storage.yandex.net)|93.158.162.221|:443... connected.\n",
            "HTTP request sent, awaiting response... 200 OK\n",
            "Length: 822296848 (784M) [application/zip]\n",
            "Saving to: ‘hackpromo_dataset.zip’\n",
            "\n",
            "hackpromo_dataset.z 100%[===================>] 784.20M  20.2MB/s    in 40s     \n",
            "\n",
            "2021-06-06 07:03:23 (19.7 MB/s) - ‘hackpromo_dataset.zip’ saved [822296848/822296848]\n",
            "\n"
          ],
          "name": "stdout"
        }
      ]
    },
    {
      "cell_type": "code",
      "metadata": {
        "colab": {
          "base_uri": "https://localhost:8080/"
        },
        "id": "5wuE22-5vTN3",
        "outputId": "daf57c82-2dd9-4697-e718-65ca4419e4d9"
      },
      "source": [
        "!unzip -P lenta080LENTA hackpromo_dataset.zip "
      ],
      "execution_count": 3,
      "outputs": [
        {
          "output_type": "stream",
          "text": [
            "Archive:  hackpromo_dataset.zip\n",
            "   creating: Lenta hack/\n",
            "  inflating: Lenta hack/20210518_uplift.csv  \n",
            "  inflating: Lenta hack/20210518_hierarchy.csv  \n",
            "  inflating: Lenta hack/20210521_sample_submission.csv  \n",
            "  inflating: Lenta hack/20210518_checks.csv  \n",
            "  inflating: Lenta hack/20210521_offers.csv  \n"
          ],
          "name": "stdout"
        }
      ]
    },
    {
      "cell_type": "code",
      "metadata": {
        "id": "K-Z97xNRwArt"
      },
      "source": [
        "import pandas as pd\n",
        "import numpy as np\n",
        "import scipy\n",
        "import matplotlib as mpl\n",
        "import matplotlib.pyplot as plt\n",
        "import seaborn as sns\n",
        "import csv\n",
        "from tqdm.notebook import tqdm\n",
        "\n",
        "mpl.rcParams['figure.figsize'] = (20, 6)\n",
        "plt.style.use('ggplot')"
      ],
      "execution_count": 35,
      "outputs": []
    },
    {
      "cell_type": "code",
      "metadata": {
        "id": "_Gvvu_Zlve_5"
      },
      "source": [
        "checks = pd.read_csv('/content/Lenta hack/20210518_checks.csv', parse_dates=['day'])\n",
        "offers = pd.read_csv('/content/Lenta hack/20210521_offers.csv', parse_dates=['start_date', 'end_date'])"
      ],
      "execution_count": 2,
      "outputs": []
    },
    {
      "cell_type": "code",
      "metadata": {
        "colab": {
          "base_uri": "https://localhost:8080/",
          "height": 309
        },
        "id": "iW8mjO9gd2yI",
        "outputId": "5a464179-7e18-4adc-d90a-d6fb4e28221f"
      },
      "source": [
        "checks.head()"
      ],
      "execution_count": 5,
      "outputs": [
        {
          "output_type": "execute_result",
          "data": {
            "text/html": [
              "<div>\n",
              "<style scoped>\n",
              "    .dataframe tbody tr th:only-of-type {\n",
              "        vertical-align: middle;\n",
              "    }\n",
              "\n",
              "    .dataframe tbody tr th {\n",
              "        vertical-align: top;\n",
              "    }\n",
              "\n",
              "    .dataframe thead th {\n",
              "        text-align: right;\n",
              "    }\n",
              "</style>\n",
              "<table border=\"1\" class=\"dataframe\">\n",
              "  <thead>\n",
              "    <tr style=\"text-align: right;\">\n",
              "      <th></th>\n",
              "      <th>client_id</th>\n",
              "      <th>day</th>\n",
              "      <th>shop_id</th>\n",
              "      <th>check_id</th>\n",
              "      <th>time</th>\n",
              "      <th>sku</th>\n",
              "      <th>promo_id</th>\n",
              "      <th>check_pos</th>\n",
              "      <th>num_sales</th>\n",
              "      <th>supplier_price</th>\n",
              "      <th>selling_price</th>\n",
              "      <th>region_name</th>\n",
              "    </tr>\n",
              "  </thead>\n",
              "  <tbody>\n",
              "    <tr>\n",
              "      <th>0</th>\n",
              "      <td>d9da50b77962ad6401d0527db5b65b04</td>\n",
              "      <td>2019-12-30</td>\n",
              "      <td>25bbdcd06c32d477f7fa1c3e4a91b032</td>\n",
              "      <td>c0b3f9c2215f924e27a6039617999c60</td>\n",
              "      <td>07:28:39</td>\n",
              "      <td>b17c870027bb4a22e3aedb971bc00def</td>\n",
              "      <td>b3deb0286313f0b888c0eac49580cc23</td>\n",
              "      <td>1</td>\n",
              "      <td>5.0</td>\n",
              "      <td>133.40</td>\n",
              "      <td>249.45</td>\n",
              "      <td>152f1b77a32508570e2745daf9ce7aec</td>\n",
              "    </tr>\n",
              "    <tr>\n",
              "      <th>1</th>\n",
              "      <td>d9da50b77962ad6401d0527db5b65b04</td>\n",
              "      <td>2019-12-30</td>\n",
              "      <td>25bbdcd06c32d477f7fa1c3e4a91b032</td>\n",
              "      <td>c0b3f9c2215f924e27a6039617999c60</td>\n",
              "      <td>07:28:39</td>\n",
              "      <td>b9ef00e971d0fb459a765708efba70c0</td>\n",
              "      <td>680a96609351230ed00e1d1090371cbc</td>\n",
              "      <td>2</td>\n",
              "      <td>1.0</td>\n",
              "      <td>96.77</td>\n",
              "      <td>118.99</td>\n",
              "      <td>152f1b77a32508570e2745daf9ce7aec</td>\n",
              "    </tr>\n",
              "    <tr>\n",
              "      <th>2</th>\n",
              "      <td>d9da50b77962ad6401d0527db5b65b04</td>\n",
              "      <td>2019-12-30</td>\n",
              "      <td>25bbdcd06c32d477f7fa1c3e4a91b032</td>\n",
              "      <td>c0b3f9c2215f924e27a6039617999c60</td>\n",
              "      <td>07:28:39</td>\n",
              "      <td>b75147feae4cf8ec07fb5f2cef855def</td>\n",
              "      <td>7215ee9c7d9dc229d2921a40e899ec5f</td>\n",
              "      <td>5</td>\n",
              "      <td>2.0</td>\n",
              "      <td>2.34</td>\n",
              "      <td>7.58</td>\n",
              "      <td>152f1b77a32508570e2745daf9ce7aec</td>\n",
              "    </tr>\n",
              "    <tr>\n",
              "      <th>3</th>\n",
              "      <td>d9da50b77962ad6401d0527db5b65b04</td>\n",
              "      <td>2019-12-30</td>\n",
              "      <td>25bbdcd06c32d477f7fa1c3e4a91b032</td>\n",
              "      <td>c0b3f9c2215f924e27a6039617999c60</td>\n",
              "      <td>07:28:39</td>\n",
              "      <td>b25e0d42165d246d23cbf4d3efcdf583</td>\n",
              "      <td>7215ee9c7d9dc229d2921a40e899ec5f</td>\n",
              "      <td>4</td>\n",
              "      <td>1.0</td>\n",
              "      <td>23.59</td>\n",
              "      <td>39.99</td>\n",
              "      <td>152f1b77a32508570e2745daf9ce7aec</td>\n",
              "    </tr>\n",
              "    <tr>\n",
              "      <th>4</th>\n",
              "      <td>d9da50b77962ad6401d0527db5b65b04</td>\n",
              "      <td>2019-12-30</td>\n",
              "      <td>25bbdcd06c32d477f7fa1c3e4a91b032</td>\n",
              "      <td>c0b3f9c2215f924e27a6039617999c60</td>\n",
              "      <td>07:28:39</td>\n",
              "      <td>a537d2eef30d47f9b11d655421ca93fb</td>\n",
              "      <td>05c93d4fa9bdbe70b5d2204ce9548ca9</td>\n",
              "      <td>3</td>\n",
              "      <td>1.0</td>\n",
              "      <td>24.02</td>\n",
              "      <td>39.99</td>\n",
              "      <td>152f1b77a32508570e2745daf9ce7aec</td>\n",
              "    </tr>\n",
              "  </tbody>\n",
              "</table>\n",
              "</div>"
            ],
            "text/plain": [
              "                          client_id  ...                       region_name\n",
              "0  d9da50b77962ad6401d0527db5b65b04  ...  152f1b77a32508570e2745daf9ce7aec\n",
              "1  d9da50b77962ad6401d0527db5b65b04  ...  152f1b77a32508570e2745daf9ce7aec\n",
              "2  d9da50b77962ad6401d0527db5b65b04  ...  152f1b77a32508570e2745daf9ce7aec\n",
              "3  d9da50b77962ad6401d0527db5b65b04  ...  152f1b77a32508570e2745daf9ce7aec\n",
              "4  d9da50b77962ad6401d0527db5b65b04  ...  152f1b77a32508570e2745daf9ce7aec\n",
              "\n",
              "[5 rows x 12 columns]"
            ]
          },
          "metadata": {
            "tags": []
          },
          "execution_count": 5
        }
      ]
    },
    {
      "cell_type": "code",
      "metadata": {
        "colab": {
          "base_uri": "https://localhost:8080/"
        },
        "id": "ztwlAvlEeA1V",
        "outputId": "36a59764-3452-4fbd-9ae5-e0e8eb26355e"
      },
      "source": [
        "checks.info()"
      ],
      "execution_count": 7,
      "outputs": [
        {
          "output_type": "stream",
          "text": [
            "<class 'pandas.core.frame.DataFrame'>\n",
            "RangeIndex: 21479259 entries, 0 to 21479258\n",
            "Data columns (total 12 columns):\n",
            " #   Column          Dtype         \n",
            "---  ------          -----         \n",
            " 0   client_id       object        \n",
            " 1   day             datetime64[ns]\n",
            " 2   shop_id         object        \n",
            " 3   check_id        object        \n",
            " 4   time            object        \n",
            " 5   sku             object        \n",
            " 6   promo_id        object        \n",
            " 7   check_pos       int64         \n",
            " 8   num_sales       float64       \n",
            " 9   supplier_price  float64       \n",
            " 10  selling_price   float64       \n",
            " 11  region_name     object        \n",
            "dtypes: datetime64[ns](1), float64(3), int64(1), object(7)\n",
            "memory usage: 1.9+ GB\n"
          ],
          "name": "stdout"
        }
      ]
    },
    {
      "cell_type": "code",
      "metadata": {
        "colab": {
          "base_uri": "https://localhost:8080/",
          "height": 204
        },
        "id": "Pi5ZZFpVd3zS",
        "outputId": "e839a616-2ef9-4b13-c89f-70de16527fee"
      },
      "source": [
        "offers.head()"
      ],
      "execution_count": 6,
      "outputs": [
        {
          "output_type": "execute_result",
          "data": {
            "text/html": [
              "<div>\n",
              "<style scoped>\n",
              "    .dataframe tbody tr th:only-of-type {\n",
              "        vertical-align: middle;\n",
              "    }\n",
              "\n",
              "    .dataframe tbody tr th {\n",
              "        vertical-align: top;\n",
              "    }\n",
              "\n",
              "    .dataframe thead th {\n",
              "        text-align: right;\n",
              "    }\n",
              "</style>\n",
              "<table border=\"1\" class=\"dataframe\">\n",
              "  <thead>\n",
              "    <tr style=\"text-align: right;\">\n",
              "      <th></th>\n",
              "      <th>Promo_type</th>\n",
              "      <th>Offer_ID</th>\n",
              "      <th>sku</th>\n",
              "      <th>start_date</th>\n",
              "      <th>end_date</th>\n",
              "      <th>train_test_group</th>\n",
              "      <th>days</th>\n",
              "      <th>dayweek</th>\n",
              "    </tr>\n",
              "  </thead>\n",
              "  <tbody>\n",
              "    <tr>\n",
              "      <th>0</th>\n",
              "      <td>Facades</td>\n",
              "      <td>F26</td>\n",
              "      <td>71c770923102af052f64c6036c9dd590</td>\n",
              "      <td>2020-02-13</td>\n",
              "      <td>2020-02-19</td>\n",
              "      <td>train</td>\n",
              "      <td>7</td>\n",
              "      <td>3</td>\n",
              "    </tr>\n",
              "    <tr>\n",
              "      <th>1</th>\n",
              "      <td>Facades</td>\n",
              "      <td>F2</td>\n",
              "      <td>e87788b585ead792a4d40f7de18f2f76</td>\n",
              "      <td>2020-01-02</td>\n",
              "      <td>2020-01-08</td>\n",
              "      <td>train</td>\n",
              "      <td>7</td>\n",
              "      <td>3</td>\n",
              "    </tr>\n",
              "    <tr>\n",
              "      <th>2</th>\n",
              "      <td>Facades</td>\n",
              "      <td>F9</td>\n",
              "      <td>5ae92b5e465d630285677e80b43fe5f7</td>\n",
              "      <td>2020-01-16</td>\n",
              "      <td>2020-01-22</td>\n",
              "      <td>train</td>\n",
              "      <td>7</td>\n",
              "      <td>3</td>\n",
              "    </tr>\n",
              "    <tr>\n",
              "      <th>3</th>\n",
              "      <td>Facades</td>\n",
              "      <td>F45</td>\n",
              "      <td>0790b472112a765339f0e5c3f66816ee</td>\n",
              "      <td>2020-03-19</td>\n",
              "      <td>2020-03-25</td>\n",
              "      <td>train</td>\n",
              "      <td>7</td>\n",
              "      <td>3</td>\n",
              "    </tr>\n",
              "    <tr>\n",
              "      <th>4</th>\n",
              "      <td>Facades</td>\n",
              "      <td>F191</td>\n",
              "      <td>e87788b585ead792a4d40f7de18f2f76</td>\n",
              "      <td>2020-11-12</td>\n",
              "      <td>2020-11-18</td>\n",
              "      <td>test</td>\n",
              "      <td>7</td>\n",
              "      <td>3</td>\n",
              "    </tr>\n",
              "  </tbody>\n",
              "</table>\n",
              "</div>"
            ],
            "text/plain": [
              "  Promo_type Offer_ID  ... days dayweek\n",
              "0    Facades      F26  ...    7       3\n",
              "1    Facades       F2  ...    7       3\n",
              "2    Facades       F9  ...    7       3\n",
              "3    Facades      F45  ...    7       3\n",
              "4    Facades     F191  ...    7       3\n",
              "\n",
              "[5 rows x 8 columns]"
            ]
          },
          "metadata": {
            "tags": []
          },
          "execution_count": 6
        }
      ]
    },
    {
      "cell_type": "code",
      "metadata": {
        "colab": {
          "base_uri": "https://localhost:8080/"
        },
        "id": "yDKsNElbeCeU",
        "outputId": "1aada4d1-637c-4d84-e22e-d1eb085b1dca"
      },
      "source": [
        "offers.info()"
      ],
      "execution_count": 8,
      "outputs": [
        {
          "output_type": "stream",
          "text": [
            "<class 'pandas.core.frame.DataFrame'>\n",
            "RangeIndex: 9776 entries, 0 to 9775\n",
            "Data columns (total 8 columns):\n",
            " #   Column            Non-Null Count  Dtype         \n",
            "---  ------            --------------  -----         \n",
            " 0   Promo_type        9776 non-null   object        \n",
            " 1   Offer_ID          9776 non-null   object        \n",
            " 2   sku               9776 non-null   object        \n",
            " 3   start_date        9776 non-null   datetime64[ns]\n",
            " 4   end_date          9776 non-null   datetime64[ns]\n",
            " 5   train_test_group  9776 non-null   object        \n",
            " 6   days              9776 non-null   int64         \n",
            " 7   dayweek           9776 non-null   int64         \n",
            "dtypes: datetime64[ns](2), int64(2), object(4)\n",
            "memory usage: 611.1+ KB\n"
          ],
          "name": "stdout"
        }
      ]
    },
    {
      "cell_type": "code",
      "metadata": {
        "id": "SA1QVwoOP5aq"
      },
      "source": [
        "offers['days'] = (offers.end_date - offers.start_date).dt.days + 1\n",
        "offers['dayweek'] = offers.start_date.dt.dayofweek"
      ],
      "execution_count": 9,
      "outputs": []
    },
    {
      "cell_type": "markdown",
      "metadata": {
        "id": "ElL36g80eVPP"
      },
      "source": [
        "Типы промо"
      ]
    },
    {
      "cell_type": "code",
      "metadata": {
        "colab": {
          "base_uri": "https://localhost:8080/"
        },
        "id": "QgyyyLiCeQLY",
        "outputId": "42b53959-d86d-4523-d201-876a82e95806"
      },
      "source": [
        "offers.Promo_type.value_counts()"
      ],
      "execution_count": 11,
      "outputs": [
        {
          "output_type": "execute_result",
          "data": {
            "text/plain": [
              "Seasonal      3455\n",
              "Biweekly      2998\n",
              "Facades       2513\n",
              "Billboards     810\n",
              "Name: Promo_type, dtype: int64"
            ]
          },
          "metadata": {
            "tags": []
          },
          "execution_count": 11
        }
      ]
    },
    {
      "cell_type": "markdown",
      "metadata": {
        "id": "rbyoQY72ecG7"
      },
      "source": [
        "Дни, в которые начинаются акции"
      ]
    },
    {
      "cell_type": "code",
      "metadata": {
        "colab": {
          "base_uri": "https://localhost:8080/"
        },
        "id": "ildJPEyrdyr9",
        "outputId": "b5da7393-27d7-4ac3-97f1-5c98d6f9413a"
      },
      "source": [
        "offers.dayweek.value_counts()"
      ],
      "execution_count": 4,
      "outputs": [
        {
          "output_type": "execute_result",
          "data": {
            "text/plain": [
              "3    6256\n",
              "1    3019\n",
              "0     399\n",
              "4      79\n",
              "2      23\n",
              "Name: dayweek, dtype: int64"
            ]
          },
          "metadata": {
            "tags": []
          },
          "execution_count": 4
        }
      ]
    },
    {
      "cell_type": "code",
      "metadata": {
        "colab": {
          "base_uri": "https://localhost:8080/"
        },
        "id": "BxH-AmlIeFn8",
        "outputId": "3b99e733-74c4-48bb-e0b9-61fbfa6e1bde"
      },
      "source": [
        "offers.days.value_counts()"
      ],
      "execution_count": 10,
      "outputs": [
        {
          "output_type": "execute_result",
          "data": {
            "text/plain": [
              "14    5109\n",
              "7     2748\n",
              "21    1009\n",
              "29     242\n",
              "28     206\n",
              "22     137\n",
              "15     123\n",
              "36      51\n",
              "20      41\n",
              "11      38\n",
              "42      29\n",
              "8       23\n",
              "43       8\n",
              "49       5\n",
              "6        4\n",
              "4        2\n",
              "10       1\n",
              "Name: days, dtype: int64"
            ]
          },
          "metadata": {
            "tags": []
          },
          "execution_count": 10
        }
      ]
    },
    {
      "cell_type": "code",
      "metadata": {
        "id": "z9xPNfxaa_ty"
      },
      "source": [
        "def get_profit(checks, sku, start, end):\n",
        "    check_ids = checks[(checks.sku == sku) & (checks.day.between(start, end))].check_id\n",
        "    check_pred = checks[checks.check_id.isin(check_ids)]\n",
        "    profit = check_pred.selling_price.sum()\n",
        "    return profit"
      ],
      "execution_count": 12,
      "outputs": []
    },
    {
      "cell_type": "code",
      "metadata": {
        "id": "KTJpxv1Xj77k"
      },
      "source": [
        "def get_intervals(start_date, end_date, days):\n",
        "  pred_end = start_date - pd.Timedelta(days=1)\n",
        "  pred_start = pred_end - pd.Timedelta(days=days)\n",
        "\n",
        "  past_start = end_date + pd.Timedelta(days=1)\n",
        "  past_end = past_start + pd.Timedelta(days=days-1)\n",
        "\n",
        "  return (pred_start, pred_end), (past_start, past_end)"
      ],
      "execution_count": 13,
      "outputs": []
    },
    {
      "cell_type": "code",
      "metadata": {
        "id": "ZziULsqLu3sX"
      },
      "source": [
        "def get_profits(checks, sku, start_date, end_date, days):\n",
        "    (pred_start, pred_end), (past_start, past_end) = get_intervals(start_date, end_date, days)\n",
        "    \n",
        "    profit = get_profit(checks, sku, start_date, end_date)\n",
        "    pred_profit = get_profit(checks, sku, pred_start, pred_end)\n",
        "    past_profit = get_profit(checks, sku, past_start, past_end)\n",
        "\n",
        "    return pred_profit, profit, past_profit"
      ],
      "execution_count": 14,
      "outputs": []
    },
    {
      "cell_type": "code",
      "metadata": {
        "id": "Hsg5VIQXcys-"
      },
      "source": [
        "def bar(*args, **kwds):\n",
        "    plt.bar(range(len(args[0])), *args, **kwds)"
      ],
      "execution_count": 15,
      "outputs": []
    },
    {
      "cell_type": "code",
      "metadata": {
        "id": "TGiiO6qIibV1"
      },
      "source": [
        "def is_promo_checks(checks, offer):\n",
        "    return reduce(lambda x, y: x| y,\n",
        "        (checks.day.between(a, b) \n",
        "            for (a, b) in zip(offer['start_date'],\n",
        "                              offer['end_date'])))\n",
        "    \n",
        "def calc_revenue(x):\n",
        "    return x.selling_price.sum() / x.num_sales.sum()"
      ],
      "execution_count": 53,
      "outputs": []
    },
    {
      "cell_type": "markdown",
      "metadata": {
        "id": "S3A1HO5Fa7FD"
      },
      "source": [
        "### Гало"
      ]
    },
    {
      "cell_type": "markdown",
      "metadata": {
        "id": "T9v4uNUsNqUP"
      },
      "source": [
        "Топ 100 самых частых товаров на акции"
      ]
    },
    {
      "cell_type": "code",
      "metadata": {
        "id": "3tqMXGcHuDKp"
      },
      "source": [
        "offers_top100 = offers[offers.sku.isin(offers.sku.value_counts()[:100].index) & offers.train_test_group.eq('train')]\n",
        "checks_top100 = checks[checks.sku.isin(offers_top100.sku.unique())]"
      ],
      "execution_count": 16,
      "outputs": []
    },
    {
      "cell_type": "code",
      "metadata": {
        "colab": {
          "base_uri": "https://localhost:8080/",
          "height": 66,
          "referenced_widgets": [
            "60a64bb633f54bf39e5bf7ef5a8aa89e",
            "d03c8e788db74a508873ed7c2941829e",
            "903caa0d084742b2b5827c519aff4840",
            "96b54d0ed8cf470299cf323f1ca27d7e",
            "c949935144c04463a0ecd3cece73fad9",
            "ccf0e140dedf430b97e1827dff630b03",
            "eabf773bc03b452fa691c51d2bfca109",
            "6b87d15ab89d414eb49a0bccc98c4efc"
          ]
        },
        "id": "r-_lOWa0ty_Z",
        "outputId": "5efc40f5-9096-4743-8326-5e3780109737"
      },
      "source": [
        "profits = []\n",
        "for _, row in tqdm(offers_top100.iterrows(), total=len(offers_top100)):\n",
        "    profits.append(get_profits(checks_top100, row.sku, row.start_date, row.end_date, row.days))"
      ],
      "execution_count": 17,
      "outputs": [
        {
          "output_type": "display_data",
          "data": {
            "application/vnd.jupyter.widget-view+json": {
              "model_id": "60a64bb633f54bf39e5bf7ef5a8aa89e",
              "version_minor": 0,
              "version_major": 2
            },
            "text/plain": [
              "HBox(children=(FloatProgress(value=0.0, max=720.0), HTML(value='')))"
            ]
          },
          "metadata": {
            "tags": []
          }
        },
        {
          "output_type": "stream",
          "text": [
            "\n"
          ],
          "name": "stdout"
        }
      ]
    },
    {
      "cell_type": "code",
      "metadata": {
        "id": "Icy1NiD_wLrO"
      },
      "source": [
        "profits = pd.DataFrame(profits, columns=['pred_profit', 'profit', 'past_profit'])"
      ],
      "execution_count": 18,
      "outputs": []
    },
    {
      "cell_type": "code",
      "metadata": {
        "id": "UkxLezRWSGwJ"
      },
      "source": [
        "means_curr = profits.groupby(offers_top100.sku).apply(lambda x: (x.profit.mean() / (x.pred_profit.mean() + 1e-2) - 1))\n",
        "means_past = profits.groupby(offers_top100.sku).apply(lambda x: (x.past_profit.mean() / (x.pred_profit.mean() + 1e-2) - 1))"
      ],
      "execution_count": 31,
      "outputs": []
    },
    {
      "cell_type": "code",
      "metadata": {
        "colab": {
          "base_uri": "https://localhost:8080/",
          "height": 424
        },
        "id": "pxMHTMIJx-66",
        "outputId": "555f1487-d8a9-4638-cc65-e237753f0182"
      },
      "source": [
        "bar(means_curr)\n",
        "plt.ylim(-5, 33)\n",
        "plt.xlabel('Номер товара')\n",
        "plt.ylabel('Средний прирост чека, \\nв котором есть акционный товар')\n",
        "plt.title('Средний прирост чека в период акции по отношению \\nк предыдущему периоду для топ-100 акционных товаров');"
      ],
      "execution_count": 36,
      "outputs": [
        {
          "output_type": "display_data",
          "data": {
            "image/png": "[encoded data removed]",
            "text/plain": [
              "<Figure size 1440x432 with 1 Axes>"
            ]
          },
          "metadata": {
            "tags": []
          }
        }
      ]
    },
    {
      "cell_type": "code",
      "metadata": {
        "colab": {
          "base_uri": "https://localhost:8080/",
          "height": 424
        },
        "id": "oaW9z35iRFM2",
        "outputId": "3935077e-057c-4ab1-daca-5426374ce306"
      },
      "source": [
        "bar(means_past)\n",
        "plt.ylim(-5, 33)\n",
        "plt.xlabel('Номер товара')\n",
        "plt.ylabel('Средний прирост чека, \\nв котором есть акционный товар')\n",
        "plt.title('Средний прирост чека в постпериод акции по отношению \\nк предпериоду для топ-100 акционных товаров');"
      ],
      "execution_count": 38,
      "outputs": [
        {
          "output_type": "display_data",
          "data": {
            "image/png": "[encoded data removed]",
            "text/plain": [
              "<Figure size 1440x432 with 1 Axes>"
            ]
          },
          "metadata": {
            "tags": []
          }
        }
      ]
    },
    {
      "cell_type": "markdown",
      "metadata": {
        "id": "16w41sSEbBmL"
      },
      "source": [
        "### Эффективность промо на товар"
      ]
    },
    {
      "cell_type": "code",
      "metadata": {
        "colab": {
          "base_uri": "https://localhost:8080/",
          "height": 66,
          "referenced_widgets": [
            "9392623417c24156940cf7cd0f0a1384",
            "14efd104996643d7b290e2084584ca01",
            "12cefae2d9ad4099a9931981422f0521",
            "ec0fa60b71cc40c5bdf65604357e055b",
            "9ff6b0e11f4e42a8b931245493c52b36",
            "01e14f4947534aefa7445ada8a6472df",
            "f7257d830d5f44269b2af1470b5f06f5",
            "81a72826dc9e4f58b2e6aec1af56e117"
          ]
        },
        "id": "3OdmJ7Bw3GRd",
        "outputId": "f65f78c3-62ca-4c1e-be91-fe56be24657e"
      },
      "source": [
        "from functools import reduce\n",
        "\n",
        "means = []\n",
        "for sku in tqdm(offers_top100.sku.unique()):\n",
        "    spam_offer = offers[offers.sku == sku]\n",
        "    checks_sku = checks_top100[checks_top100.sku == sku]\n",
        "    checks_sku_isPromo = reduce(lambda x, y: x| y,\n",
        "        (checks_sku.day.between(a, b) \n",
        "            for (a, b) in zip(spam_offer['start_date'],\n",
        "                              spam_offer['end_date'])))\n",
        "    \n",
        "    checks_sku_promo = checks_sku[checks_sku_isPromo]\n",
        "    checks_sku_nopromo = checks_sku[~checks_sku_isPromo]\n",
        "    \n",
        "    mean_promo = (checks_sku_promo.selling_price).sum() / checks_sku_promo.num_sales.sum()\n",
        "    mean_nopromo = (checks_sku_nopromo.selling_price).sum() / checks_sku_nopromo.num_sales.sum()\n",
        "    means.append([mean_promo, mean_nopromo])"
      ],
      "execution_count": 39,
      "outputs": [
        {
          "output_type": "display_data",
          "data": {
            "application/vnd.jupyter.widget-view+json": {
              "model_id": "9392623417c24156940cf7cd0f0a1384",
              "version_minor": 0,
              "version_major": 2
            },
            "text/plain": [
              "HBox(children=(FloatProgress(value=0.0), HTML(value='')))"
            ]
          },
          "metadata": {
            "tags": []
          }
        },
        {
          "output_type": "stream",
          "text": [
            "\n"
          ],
          "name": "stdout"
        }
      ]
    },
    {
      "cell_type": "code",
      "metadata": {
        "id": "9Clg9IQd4rsZ"
      },
      "source": [
        "means = pd.DataFrame(means, columns=['mean_promo', 'mean_nopromo'])"
      ],
      "execution_count": 40,
      "outputs": []
    },
    {
      "cell_type": "code",
      "metadata": {
        "colab": {
          "base_uri": "https://localhost:8080/",
          "height": 425
        },
        "id": "9NG2Thnu7MI4",
        "outputId": "dc0ffddd-d7a1-457c-f0f7-c9e7ef018c5d"
      },
      "source": [
        "bar(means.mean_nopromo, label='Вне периода акции', alpha=0.66, color='b')\n",
        "bar(means.mean_promo, label='В период акции', alpha=0.66, color='r')\n",
        "plt.legend()\n",
        "plt.ylim(40, 350)\n",
        "plt.title('Средние продажи товара из топ-100 акционных товаров')\n",
        "plt.xlabel('Номер товара')\n",
        "plt.ylabel('Средние продажи')"
      ],
      "execution_count": 43,
      "outputs": [
        {
          "output_type": "execute_result",
          "data": {
            "text/plain": [
              "Text(0, 0.5, 'Средние продажи')"
            ]
          },
          "metadata": {
            "tags": []
          },
          "execution_count": 43
        },
        {
          "output_type": "display_data",
          "data": {
            "image/png": "[encoded data removed]",
            "text/plain": [
              "<Figure size 1440x432 with 1 Axes>"
            ]
          },
          "metadata": {
            "tags": []
          }
        }
      ]
    },
    {
      "cell_type": "code",
      "metadata": {
        "colab": {
          "base_uri": "https://localhost:8080/",
          "height": 425
        },
        "id": "wSKVmYJi7pk1",
        "outputId": "7bb6c20d-c5af-4faa-836c-a5a9659a34f6"
      },
      "source": [
        "bar(means.mean_promo / means.mean_nopromo - 1, label='Вне периода акции', color='r')\n",
        "plt.title('Средний прирост продаж товара в период акции по отношению к продажам во внеакционный период')\n",
        "plt.xlabel('Номер товара из топ-100 акционных товаров')\n",
        "plt.ylabel('Средний прирост продаж')"
      ],
      "execution_count": 45,
      "outputs": [
        {
          "output_type": "execute_result",
          "data": {
            "text/plain": [
              "Text(0, 0.5, 'Средний прирост продаж')"
            ]
          },
          "metadata": {
            "tags": []
          },
          "execution_count": 45
        },
        {
          "output_type": "display_data",
          "data": {
            "image/png": "[encoded data removed]",
            "text/plain": [
              "<Figure size 1440x432 with 1 Axes>"
            ]
          },
          "metadata": {
            "tags": []
          }
        }
      ]
    },
    {
      "cell_type": "code",
      "metadata": {
        "colab": {
          "base_uri": "https://localhost:8080/",
          "height": 66,
          "referenced_widgets": [
            "13c7044306c44a1e9c909d383975a24f",
            "db83b9787bf9439e87fa66331afa18e2",
            "eeb3d08dca82479e979f8c6c884a515d",
            "9790f1635a934a8286b478cfdf96a969",
            "729d5a17f69049c48dd83817738e049f",
            "c9f555cf99c5421dbfd4d4aed01e2c9d",
            "045298f4a023439ca32c29c45dae96a1",
            "98ef86a1e3cc4fa2a5e08c0f4ee6c360"
          ]
        },
        "id": "ugaf2-8_Np6W",
        "outputId": "6ca1963e-662a-4b24-dbb8-c9f18dbb794d"
      },
      "source": [
        "from functools import reduce\n",
        "\n",
        "means = []\n",
        "for sku in tqdm(offers_top100.sku.unique()):\n",
        "    spam_offer = offers[offers.sku == sku]\n",
        "    checks_sku = checks_top100[checks_top100.sku == sku]\n",
        "    checks_sku_isPromo = reduce(lambda x, y: x| y,\n",
        "        (checks_sku.day.between(a, b) \n",
        "            for (a, b) in zip(spam_offer['start_date'],\n",
        "                              spam_offer['end_date'])))\n",
        "    \n",
        "    checks_sku_promo = checks_sku[checks_sku_isPromo]\n",
        "    checks_sku_nopromo = checks_sku[~checks_sku_isPromo]\n",
        "    \n",
        "    mean_promo = (checks_sku_promo.selling_price - checks_sku_promo.supplier_price).sum() / checks_sku_promo.num_sales.sum()\n",
        "    mean_nopromo = (checks_sku_nopromo.selling_price - checks_sku_nopromo.supplier_price).sum() / checks_sku_nopromo.num_sales.sum()\n",
        "    means.append([mean_promo, mean_nopromo])\n",
        "means = pd.DataFrame(means, columns=['mean_promo', 'mean_nopromo'])"
      ],
      "execution_count": 46,
      "outputs": [
        {
          "output_type": "display_data",
          "data": {
            "application/vnd.jupyter.widget-view+json": {
              "model_id": "13c7044306c44a1e9c909d383975a24f",
              "version_minor": 0,
              "version_major": 2
            },
            "text/plain": [
              "HBox(children=(FloatProgress(value=0.0), HTML(value='')))"
            ]
          },
          "metadata": {
            "tags": []
          }
        },
        {
          "output_type": "stream",
          "text": [
            "\n"
          ],
          "name": "stdout"
        }
      ]
    },
    {
      "cell_type": "code",
      "metadata": {
        "colab": {
          "base_uri": "https://localhost:8080/",
          "height": 425
        },
        "id": "z16JyW2HN5Tg",
        "outputId": "a7041d1a-66e5-428c-a581-2070fff68ab7"
      },
      "source": [
        "bar(means.mean_nopromo, label='Вне периода акции', alpha=0.66, color='b')\n",
        "bar(means.mean_promo, label='В период акции', alpha=0.66, color='r')\n",
        "plt.legend()\n",
        "plt.title('Средняя прибыль товара из топ-100 акционных товаров')\n",
        "plt.xlabel('Номер товара')\n",
        "plt.ylabel('Средняя прибыль')"
      ],
      "execution_count": 47,
      "outputs": [
        {
          "output_type": "execute_result",
          "data": {
            "text/plain": [
              "Text(0, 0.5, 'Средняя прибыль')"
            ]
          },
          "metadata": {
            "tags": []
          },
          "execution_count": 47
        },
        {
          "output_type": "display_data",
          "data": {
            "image/png": "[encoded data removed]",
            "text/plain": [
              "<Figure size 1440x432 with 1 Axes>"
            ]
          },
          "metadata": {
            "tags": []
          }
        }
      ]
    },
    {
      "cell_type": "markdown",
      "metadata": {
        "id": "Pbsmt6A6Rsgg"
      },
      "source": [
        "### Оценка каннибализации"
      ]
    },
    {
      "cell_type": "code",
      "metadata": {
        "id": "1fpSIww1bohW"
      },
      "source": [
        "sku_cnts = checks.sku.value_counts()\n",
        "checks_top100 = checks[checks.sku.isin(sku_cnts[:100].index)]"
      ],
      "execution_count": 48,
      "outputs": []
    },
    {
      "cell_type": "code",
      "metadata": {
        "id": "ecDyLOwA1lAJ",
        "colab": {
          "base_uri": "https://localhost:8080/",
          "height": 66,
          "referenced_widgets": [
            "777baea153c24eaa8b5bab45cace2faa",
            "6890553994164b08be68bc1001ba16dd",
            "70921f8b204c42509217b6104aacea6a",
            "f503694e3871474abce6f3533161f7a6",
            "999217bb99f04e5bb14771ec9a84affe",
            "f17390495bed4cb4b6e397503e932297",
            "aaeaeb46325248119d8b23aff73f514e",
            "ca3cfe6249e040c5880744ada5f801fb"
          ]
        },
        "outputId": "2c59a244-8b13-40b3-a718-60880e58866e"
      },
      "source": [
        "from collections import Counter\n",
        "from itertools import combinations\n",
        "\n",
        "counter = Counter()\n",
        "\n",
        "vals = checks_top100.groupby('check_id').sku.apply(set).values\n",
        "\n",
        "for val in tqdm(vals):\n",
        "    combs = combinations(val, 2)\n",
        "    combs = map(frozenset, combs)\n",
        "    counter.update(combs)"
      ],
      "execution_count": 50,
      "outputs": [
        {
          "output_type": "display_data",
          "data": {
            "application/vnd.jupyter.widget-view+json": {
              "model_id": "777baea153c24eaa8b5bab45cace2faa",
              "version_minor": 0,
              "version_major": 2
            },
            "text/plain": [
              "HBox(children=(FloatProgress(value=0.0, max=1277282.0), HTML(value='')))"
            ]
          },
          "metadata": {
            "tags": []
          }
        },
        {
          "output_type": "stream",
          "text": [
            "\n"
          ],
          "name": "stdout"
        }
      ]
    },
    {
      "cell_type": "code",
      "metadata": {
        "id": "uTr5CWMqdXQG"
      },
      "source": [
        "df = pd.DataFrame(list(counter.keys()), columns=['item1', 'item2'])\n",
        "df['cnt'] = counter.values()\n",
        "df.sort_values('cnt', inplace=True)"
      ],
      "execution_count": 51,
      "outputs": []
    },
    {
      "cell_type": "code",
      "metadata": {
        "id": "txZ1BJQgcMhl"
      },
      "source": [
        "offers_top100 = offers[offers.sku.isin(sku_cnts[:100].index) & offers.train_test_group.eq('train')]"
      ],
      "execution_count": 52,
      "outputs": []
    },
    {
      "cell_type": "code",
      "metadata": {
        "colab": {
          "base_uri": "https://localhost:8080/",
          "height": 66,
          "referenced_widgets": [
            "005d75392bfa4c7c8a9ae881e4e7718d",
            "82353dd5671e4c6cb183360bbfff3554",
            "ecc5f67b50a14a33aca7c5adeb097937",
            "23a7166f6be3438db3d6685a704abf2c",
            "ed5f0f14f631471c81b467249581d634",
            "a2cf5a562e5d4c28b3125c1ddb48224c",
            "6f0e55dce9bd40cabe6418de77813872",
            "e2e9cb95222f4800995a270abdb4d36a"
          ]
        },
        "id": "bHe5L8QwPF8A",
        "outputId": "ca2c3294-f37d-4991-95c3-e009f69d4f74"
      },
      "source": [
        "means = []\n",
        "for sku in tqdm(offers_top100.sku.unique()):\n",
        "    spam_offer = offers[offers.sku == sku]\n",
        "    cross_goods = df[df.item1.eq(sku) | df.item2.eq(sku)][['item1', 'item2']]\n",
        "\n",
        "    replac_goods = cross_goods.head(5)\n",
        "    compl_goods = cross_goods.tail(5)\n",
        "\n",
        "    replac_goods = np.unique(replac_goods.values.ravel())\n",
        "    compl_goods = np.unique(compl_goods.values.ravel())\n",
        "\n",
        "    checks_replac = checks_top100[checks_top100.sku.isin(replac_goods)]\n",
        "    checks_compl = checks_top100[checks_top100.sku.isin(compl_goods)]\n",
        "        \n",
        "    checks_replac_isPromo = is_promo_checks(checks_replac, spam_offer)\n",
        "    checks_compl_isPromo = is_promo_checks(checks_compl, spam_offer)\n",
        "\n",
        "    checks_replac_promo = checks_replac[checks_replac_isPromo]\n",
        "    checks_replac_nopromo = checks_replac[~checks_replac_isPromo]\n",
        "    checks_compl_promo = checks_compl[checks_compl_isPromo]\n",
        "    checks_compl_nopromo = checks_compl[~checks_compl_isPromo]\n",
        "\n",
        "    mean_replac_promo = calc_revenue(checks_replac_promo)\n",
        "    mean_replac_nopromo = calc_revenue(checks_replac_nopromo)\n",
        "    mean_compl_promo = calc_revenue(checks_compl_promo)\n",
        "    mean_compl_nopromo = calc_revenue(checks_compl_nopromo)\n",
        "\n",
        "    means.append([mean_replac_promo, mean_replac_nopromo, mean_compl_promo, mean_compl_nopromo])\n",
        "\n",
        "means = pd.DataFrame(means, columns=['mean_replac_promo', 'mean_replac_nopromo', 'mean_compl_promo', 'mean_compl_nopromo'])"
      ],
      "execution_count": 54,
      "outputs": [
        {
          "output_type": "display_data",
          "data": {
            "application/vnd.jupyter.widget-view+json": {
              "model_id": "005d75392bfa4c7c8a9ae881e4e7718d",
              "version_minor": 0,
              "version_major": 2
            },
            "text/plain": [
              "HBox(children=(FloatProgress(value=0.0, max=48.0), HTML(value='')))"
            ]
          },
          "metadata": {
            "tags": []
          }
        },
        {
          "output_type": "stream",
          "text": [
            "\n"
          ],
          "name": "stdout"
        }
      ]
    },
    {
      "cell_type": "code",
      "metadata": {
        "colab": {
          "base_uri": "https://localhost:8080/",
          "height": 425
        },
        "id": "FKpzyYGpR5fD",
        "outputId": "e4ac3380-b009-4c6d-c6d2-0b7833a81ebb"
      },
      "source": [
        "bar(means.mean_compl_promo / means.mean_compl_nopromo - 1, label='Взаимодополняющие', alpha=0.66, color='b')\n",
        "bar(means.mean_replac_promo / means.mean_replac_nopromo - 1, label='Взаимозаменяющие', alpha=0.66, color='r')\n",
        "plt.legend()\n",
        "plt.title('Средний прирост продаж товаров из топ-100 акционных товаров в промо период по отношению к периоду вне промо')\n",
        "plt.xlabel('Номер товара')\n",
        "plt.ylabel('Средний прирост продаж')"
      ],
      "execution_count": 55,
      "outputs": [
        {
          "output_type": "execute_result",
          "data": {
            "text/plain": [
              "Text(0, 0.5, 'Средний прирост продаж')"
            ]
          },
          "metadata": {
            "tags": []
          },
          "execution_count": 55
        },
        {
          "output_type": "display_data",
          "data": {
            "image/png": "[encoded data removed]",
            "text/plain": [
              "<Figure size 1440x432 with 1 Axes>"
            ]
          },
          "metadata": {
            "tags": []
          }
        }
      ]
    },
    {
      "cell_type": "markdown",
      "metadata": {
        "id": "O4gUBxtdbGBq"
      },
      "source": [
        "### Оценка частотности промо"
      ]
    },
    {
      "cell_type": "code",
      "metadata": {
        "id": "izzeZcyW2Kpm"
      },
      "source": [
        "offers_cnt = offers.sku.value_counts()\n",
        "checks_top100 = checks[checks.sku.isin(offers_cnt.index)]"
      ],
      "execution_count": 56,
      "outputs": []
    },
    {
      "cell_type": "code",
      "metadata": {
        "colab": {
          "base_uri": "https://localhost:8080/",
          "height": 66,
          "referenced_widgets": [
            "c75e5835d3e74103973af56cd4c55953",
            "f5a1de34521e403bb1dd1abdf4085ed7",
            "d694a4e7a5a244d7aafdb50bb1075362",
            "b4aa3035f4c94e87bc6f83ee8a4f0787",
            "09cbd5b158d14d5fab76d53bdeb79516",
            "9d8a76db17834c3680d1634ab6e4673e",
            "7893e138032842fb8b32437635313bbf",
            "49cc61d23673472f8cce36b9aff307f8"
          ]
        },
        "id": "3BMtnqUDAAdD",
        "outputId": "31d1e5b2-0119-4506-8f09-513d95583120"
      },
      "source": [
        "means = []\n",
        "for sku in tqdm(offers_cnt[:100].index):\n",
        "    spam_offer = offers[offers.sku == sku]\n",
        "    checks_sku = checks_top100[checks_top100.sku == sku]\n",
        "    checks_sku_isPromo = is_promo_checks(checks_sku, spam_offer)\n",
        "\n",
        "    checks_sku_promo = checks_sku[checks_sku_isPromo]\n",
        "    checks_sku_nopromo = checks_sku[~checks_sku_isPromo]\n",
        "    \n",
        "    mean_promo = calc_revenue(checks_sku_promo)\n",
        "    mean_nopromo = calc_revenue(checks_sku_nopromo)\n",
        "    means.append([mean_promo, mean_nopromo])\n",
        "    \n",
        "means = pd.DataFrame(means, columns=['mean_promo', 'mean_nopromo'])"
      ],
      "execution_count": 57,
      "outputs": [
        {
          "output_type": "display_data",
          "data": {
            "application/vnd.jupyter.widget-view+json": {
              "model_id": "c75e5835d3e74103973af56cd4c55953",
              "version_minor": 0,
              "version_major": 2
            },
            "text/plain": [
              "HBox(children=(FloatProgress(value=0.0), HTML(value='')))"
            ]
          },
          "metadata": {
            "tags": []
          }
        },
        {
          "output_type": "stream",
          "text": [
            "\n"
          ],
          "name": "stdout"
        }
      ]
    },
    {
      "cell_type": "code",
      "metadata": {
        "colab": {
          "base_uri": "https://localhost:8080/",
          "height": 425
        },
        "id": "KbSWqDziA-pJ",
        "outputId": "bd873e80-7ff0-47b1-dd49-076517b85c02"
      },
      "source": [
        "plt.scatter(offers_cnt[:100], means.mean_promo / means.mean_nopromo - 1)\n",
        "plt.title('Средний прирост продаж в зависимости от количества промоакций товара')\n",
        "plt.xlabel('Количество промоакций для товара из топ-100 акционных товаров')\n",
        "plt.ylabel('Средний прирост продаж')"
      ],
      "execution_count": 58,
      "outputs": [
        {
          "output_type": "execute_result",
          "data": {
            "text/plain": [
              "Text(0, 0.5, 'Средний прирост продаж')"
            ]
          },
          "metadata": {
            "tags": []
          },
          "execution_count": 58
        },
        {
          "output_type": "display_data",
          "data": {
            "image/png": "[encoded data removed]",
            "text/plain": [
              "<Figure size 1440x432 with 1 Axes>"
            ]
          },
          "metadata": {
            "tags": []
          }
        }
      ]
    }
  ]
}