{
 "cells": [
  {
   "cell_type": "code",
   "execution_count": 1,
   "metadata": {},
   "outputs": [],
   "source": [
    "from data import build_dataset, fit_predict, predict_post_processing"
   ]
  },
  {
   "cell_type": "code",
   "execution_count": 2,
   "metadata": {},
   "outputs": [],
   "source": [
    "dataset, test_objects, target = build_dataset()"
   ]
  },
  {
   "cell_type": "code",
   "execution_count": 3,
   "metadata": {},
   "outputs": [],
   "source": [
    "features = ['Promo_type', 'weekday', 'length', 'sku_count', 'best_sku_rank', 'worst_sku_rank']\n",
    "target_column = 'UpLift'\n",
    "object_column = 'Offer_ID'\n",
    "categorical_features = ['Promo_type', 'weekday', 'best_sku']\n",
    "categorical_features = [f for f in categorical_features if f in features]"
   ]
  },
  {
   "cell_type": "code",
   "execution_count": 4,
   "metadata": {},
   "outputs": [
    {
     "name": "stdout",
     "output_type": "stream",
     "text": [
      "0:\tlearn: 4.2988668\ttotal: 54.1ms\tremaining: 54.1s\n",
      "100:\tlearn: 3.6256157\ttotal: 247ms\tremaining: 2.2s\n",
      "200:\tlearn: 3.4502928\ttotal: 415ms\tremaining: 1.65s\n",
      "300:\tlearn: 3.2822161\ttotal: 604ms\tremaining: 1.4s\n",
      "400:\tlearn: 3.1232159\ttotal: 805ms\tremaining: 1.2s\n",
      "500:\tlearn: 3.0062912\ttotal: 1.01s\tremaining: 1.01s\n",
      "600:\tlearn: 2.9218681\ttotal: 1.22s\tremaining: 808ms\n",
      "700:\tlearn: 2.8504668\ttotal: 1.42s\tremaining: 605ms\n",
      "800:\tlearn: 2.7947750\ttotal: 1.61s\tremaining: 401ms\n",
      "900:\tlearn: 2.7298269\ttotal: 1.82s\tremaining: 200ms\n",
      "999:\tlearn: 2.6763551\ttotal: 2.03s\tremaining: 0us\n"
     ]
    }
   ],
   "source": [
    "submission_predict, model = fit_predict(\n",
    "    dataset=dataset, \n",
    "    target=target, \n",
    "    test_objects=test_objects, \n",
    "    target_column=target_column,\n",
    "    object_column=object_column, \n",
    "    features=features, \n",
    "    categorical_features=categorical_features,\n",
    ")"
   ]
  },
  {
   "cell_type": "code",
   "execution_count": 5,
   "metadata": {},
   "outputs": [
    {
     "data": {
      "text/plain": [
       "[(8.52419573997568, 'length'),\n",
       " (12.442060356518093, 'weekday'),\n",
       " (15.99516321140191, 'Promo_type'),\n",
       " (16.867974655326094, 'sku_count'),\n",
       " (17.741475338402473, 'worst_sku_rank'),\n",
       " (28.42913069837572, 'best_sku_rank')]"
      ]
     },
     "execution_count": 5,
     "metadata": {},
     "output_type": "execute_result"
    }
   ],
   "source": [
    "sorted(zip(model.get_feature_importance(), features))"
   ]
  },
  {
   "cell_type": "code",
   "execution_count": 6,
   "metadata": {},
   "outputs": [
    {
     "name": "stdout",
     "output_type": "stream",
     "text": [
      "mkdir: невозможно создать каталог «submissions»: Файл существует\r\n"
     ]
    }
   ],
   "source": [
    "!mkdir submissions"
   ]
  },
  {
   "cell_type": "code",
   "execution_count": 8,
   "metadata": {},
   "outputs": [
    {
     "name": "stdout",
     "output_type": "stream",
     "text": [
      "['offer-level-model.ipynb', 'data.py']\n"
     ]
    }
   ],
   "source": [
    "import zipfile \n",
    "\n",
    "def make_submission(submission_predict, files_list, name='offer_sku'):\n",
    "    predicts_name = f'submissions/{name}.csv'\n",
    "    submission_predict.to_csv(predicts_name, index=False)\n",
    "    compression = zipfile.ZIP_DEFLATED\n",
    "    \n",
    "    code_name = f'submissions/{name}-code.zip'\n",
    "    with zipfile.ZipFile(code_name, 'w') as zipObj:\n",
    "        for filename in files_list:\n",
    "            zipObj.write(\n",
    "                filename, \n",
    "                arcname=filename, \n",
    "                compress_type=compression\n",
    "            )\n",
    "        print(zipObj.namelist())\n",
    "        \n",
    "        \n",
    "make_submission(submission_predict, files_list=[\n",
    "    'offer-level-model.ipynb',\n",
    "    'data.py',\n",
    "])"
   ]
  },
  {
   "cell_type": "code",
   "execution_count": 10,
   "metadata": {},
   "outputs": [
    {
     "data": {
      "text/plain": [
       "Biweekly      272\n",
       "Facades       251\n",
       "Seasonal      244\n",
       "Billboards    122\n",
       "Name: Promo_type, dtype: int64"
      ]
     },
     "execution_count": 10,
     "metadata": {},
     "output_type": "execute_result"
    }
   ],
   "source": [
    "dataset['Promo_type'].value_counts()"
   ]
  },
  {
   "cell_type": "code",
   "execution_count": null,
   "metadata": {},
   "outputs": [],
   "source": []
  }
 ],
 "metadata": {
  "kernelspec": {
   "display_name": "Python 3",
   "language": "python",
   "name": "python3"
  },
  "language_info": {
   "codemirror_mode": {
    "name": "ipython",
    "version": 3
   },
   "file_extension": ".py",
   "mimetype": "text/x-python",
   "name": "python",
   "nbconvert_exporter": "python",
   "pygments_lexer": "ipython3",
   "version": "3.6.8"
  }
 },
 "nbformat": 4,
 "nbformat_minor": 2
}
